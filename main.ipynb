{
  "cells": [
    {
      "cell_type": "markdown",
      "metadata": {
        "colab_type": "text",
        "id": "view-in-github"
      },
      "source": [
        "<a href=\"https://colab.research.google.com/github/samia-boubaya/project-01-escape-room-game/blob/main/main.ipynb\" target=\"_parent\"><img src=\"https://colab.research.google.com/assets/colab-badge.svg\" alt=\"Open In Colab\"/></a>"
      ]
    },
    {
      "cell_type": "markdown",
      "metadata": {
        "id": "SHcf1oE4dt3m"
      },
      "source": [
        "---\n",
        "# **PROJECT 01: ESCAPE ROOM GAME**\n",
        "### IRONHACK DATA BOOTCAMP\n",
        "\n",
        "Welcome to escape room quest\n",
        "\n",
        "You wake up in a couch in a misteryous house with locked doors.\n",
        "Your mission: Find the keys, unlock each room, and escape to freedom!\n",
        "\n",
        "In this notebook we start by building the data structures that define the game world, which are: rooms, objects, keys and doors."
      ]
    },
    {
      "cell_type": "markdown",
      "metadata": {
        "id": "HFl1ApuXq9IF"
      },
      "source": [
        "**Definition of an escape room:**\n",
        "\n",
        "The briefing room of an escape room in Tampere, Finland\n",
        "Escape rooms are inspired by escape room video games, live-action role-playing, point-and-click adventure games, puzzle hunts, interactive theater, and haunted houses. They are also referred to as \"room escapes\", \"escape games\", \"exit games\", or \"live escapes\".\n"
      ]
    },
    {
      "cell_type": "markdown",
      "metadata": {
        "id": "AA28Jt74hskU"
      },
      "source": [
        "---\n",
        "\n",
        "## TEAM NOTES ⭐\n",
        "### TO ADD:\n",
        "*   Quiz the player when door is unlocked (comes after the unlock_door function)\n",
        "*   Tell the player how much time he has left to escape and win this game (print and library of time)\n",
        "*   Add how much it took the player to finish the game (important in the game_state)\n",
        "*   Add Live timer and show player their countdown timer (extra)\n",
        "\n",
        "*   Add list of game_doors to compare with current_space doors to show availabe doors for the player to after that choose which door to try unlock the door using keys from inventory.\n",
        "*   horror sounds to every room, and KA-CHING for unlocking door, and different winning sound when outside\n",
        "\n",
        "---\n",
        "\n",
        "### ERROR HANDLING:\n",
        "*   Capital letters input error when comparing with our data \n",
        "*   Capitalize first letter when printing using .title()\n",
        "*   No input and enter error\n",
        "\n",
        "\n",
        "\n",
        "\n"
      ]
    },
    {
      "cell_type": "markdown",
      "metadata": {},
      "source": [
        "---\n",
        "## Clock | Countdown Live Timer"
      ]
    },
    {
      "cell_type": "code",
      "execution_count": null,
      "metadata": {},
      "outputs": [],
      "source": [
        "# define a function that starts the clock, countdown, and display\n",
        "''' def display_clock_countdown(t): '''\n",
        "\n",
        "# Starts the live clock and countdown display for t minutes.\n",
        "# Example: Start 5-minute countdown\n",
        "''' display_clock_countdown(5) '''"
      ]
    },
    {
      "cell_type": "code",
      "execution_count": null,
      "metadata": {},
      "outputs": [],
      "source": [
        "import time\n",
        "import sys\n",
        "from datetime import datetime, timedelta\n",
        "\n",
        "def display_clock_countdown(minutes):\n",
        "    try:\n",
        "        while True:  # Repeat indefinitely (change True to play=true)\n",
        "            end_time = datetime.now() + timedelta(minutes=minutes)\n",
        "\n",
        "            while True:\n",
        "                # Current time\n",
        "                now = datetime.now()\n",
        "                current_time = now.strftime(\"%H:%M:%S\")\n",
        "\n",
        "                # Remaining time\n",
        "                remaining_time = end_time - now\n",
        "                if remaining_time.total_seconds() <= 0:\n",
        "                    print(f\"\\rClock: {current_time} | Countdown: 00:00:00 ⌛\", end=\"\")\n",
        "                    break\n",
        "\n",
        "                hours, remainder = divmod(int(remaining_time.total_seconds()), 3600)\n",
        "                mins, secs = divmod(remainder, 60)\n",
        "                countdown_str = f\"{hours:02}:{mins:02}:{secs:02}\"\n",
        "\n",
        "                # Print live clock and countdown on one line\n",
        "                print(f\"\\r🕰️ Clock: {current_time} | ⏳ Countdown: {countdown_str}\", end=\"\")\n",
        "                sys.stdout.flush()\n",
        "\n",
        "                time.sleep(1)\n",
        "\n",
        "            # Big \"Time's Up\" banner\n",
        "            print(\"\\n\" + \"*\"*50)\n",
        "            print(\"*****            TIME'S UP!                   *****\")\n",
        "            print(\"*****      Restarting countdown...            *****\")\n",
        "            print(\"*\"*50 + \"\\n\")\n",
        "            time.sleep(1)  # Optional pause before restarting\n",
        "\n",
        "    except KeyboardInterrupt:\n",
        "        print(\"\\nCountdown stopped manually.\")"
      ]
    },
    {
      "cell_type": "code",
      "execution_count": null,
      "metadata": {},
      "outputs": [
        {
          "name": "stdout",
          "output_type": "stream",
          "text": [
            "Clock: 14:38:34 | Countdown: 00:00:00 ⌛0:00\n",
            "**************************************************\n",
            "*****            TIME'S UP!            *****\n",
            "*****      Restarting countdown...     *****\n",
            "**************************************************\n",
            "\n",
            "Clock: 14:39:35 | Countdown: 00:00:00 ⌛0:00\n",
            "**************************************************\n",
            "*****            TIME'S UP!            *****\n",
            "*****      Restarting countdown...     *****\n",
            "**************************************************\n",
            "\n",
            "Clock: 14:40:36 | Countdown: 00:00:00 ⌛0:00\n",
            "**************************************************\n",
            "*****            TIME'S UP!            *****\n",
            "*****      Restarting countdown...     *****\n",
            "**************************************************\n",
            "\n",
            "🕰️ Clock: 14:41:13 | ⏳ Countdown: 00:00:23"
          ]
        }
      ],
      "source": [
        "\n",
        "# call function: display_countdown(5 minutes)\n",
        "display_clock_countdown(1)"
      ]
    },
    {
      "cell_type": "markdown",
      "metadata": {
        "id": "IC-s24d_EyqV"
      },
      "source": [
        "---\n",
        "## GAME DATA (DICT & LIST)"
      ]
    },
    {
      "cell_type": "markdown",
      "metadata": {},
      "source": [
        "### DICT : GAME AREAS"
      ]
    },
    {
      "cell_type": "code",
      "execution_count": null,
      "metadata": {
        "colab": {
          "base_uri": "https://localhost:8080/"
        },
        "id": "a4SkPrp7HjLr",
        "outputId": "ffee04ef-4612-40c9-edd8-62f5321903e6"
      },
      "outputs": [],
      "source": [
        "# Each key in this dictionary represents a room; each value is a list of objects, doors and keys\n",
        "\n",
        "# Dictionary : GAME AREAS\n",
        "game_areas = {\n",
        "    \"game room\" : ['couch', 'piano', 'door A', 'key door A'],\n",
        "    \"bedroom 1\": ['queen bed', 'door A', 'door B', 'door C', 'key door B'],\n",
        "    \"bedroom 2\": ['double bed', 'door B', 'dresser', 'key door D', 'key door C'],\n",
        "    \"living room\": [\"dining table\", 'door C', 'door D'],\n",
        "    \"outside\": [\"Freedom! You won! :)\"]\n",
        "}\n",
        "\n",
        "# List : dictionary Keys\n",
        "spaces = game_areas.keys()\n",
        "print(\"GAME AREAS Dictionary:\")\n",
        "print(\"Dictionary Keys:\\n\",spaces,\"\\n\")\n",
        "\n",
        "# Print dictionary organised\n",
        "print(\"Dictionary:\\n{   key   :   value     }\")\n",
        "for i in spaces:\n",
        "  print(i,\":\",game_areas[i])"
      ]
    },
    {
      "cell_type": "markdown",
      "metadata": {},
      "source": [
        "### DICT : GAME STATE"
      ]
    },
    {
      "cell_type": "code",
      "execution_count": null,
      "metadata": {
        "colab": {
          "base_uri": "https://localhost:8080/"
        },
        "id": "SUvNCnzBN0sg",
        "outputId": "0b0672de-cfa8-4885-d8c6-df9ff06b5815"
      },
      "outputs": [],
      "source": [
        "# Keep track of the player : current space; current item to examine; and inventory of keys\n",
        "\n",
        "# Dictionary : GAME STATE\n",
        "game_state = {\n",
        "    'time': [\"display_clock_countdown\"] , #library time for live timer and countdown\n",
        "    'space path' : [], # player current space to navigate and make a space path\n",
        "    'item path' : [], # to select an item to examine for key; and make an item path\n",
        "    'inventory': [], # to store found keys\n",
        "    \n",
        "}\n",
        "\n",
        "# List : dictionary Keys\n",
        "states = game_state.keys()\n",
        "print(\"GAME STATE Dictionary:\")\n",
        "print(\"Dictionary Keys:\\n\",states,\"\\n\")\n",
        "\n",
        "# Print dictionary organised\n",
        "print(\"Dictionary:\\n{   key   :   value     }\")\n",
        "for i in states:\n",
        "  print(i,\":\",game_state[i])"
      ]
    },
    {
      "cell_type": "markdown",
      "metadata": {},
      "source": [
        "---\n",
        "### DICT : SOUNDS (EXTRA FEATURE)"
      ]
    },
    {
      "cell_type": "code",
      "execution_count": null,
      "metadata": {
        "id": "I9Ni87F47qL4"
      },
      "outputs": [],
      "source": [
        "\n",
        "# Use dict to create sounds in game\n",
        "# Dict : sounds\n",
        "game_sounds = {\n",
        "    'space sound': \"WOOD CRACKING\", # space sound for every space 'wind'\n",
        "    'key found sound': \"HURRAY\", # key found sound for finding key like 'hurray'\n",
        "    'unlock door sound' : \"CLICK\", # unlock door sound for unlocking door after solving quiz like 'click'\n",
        "          }\n",
        "\n",
        "print(\"GAME SOUNDS Dictionary:\")\n",
        "# List : dictionary Keys\n",
        "sounds = game_sounds.keys()\n",
        "print(\"Dictionary Keys:\\n\", sounds, \"\\n\")\n",
        "# print dict : sounds\n",
        "# Print dictionary organised\n",
        "print(\"Dictionary:\\n{   key   :   value     }\")\n",
        "for i in sounds:\n",
        "  print(i,\":\",game_sounds[i])"
      ]
    },
    {
      "cell_type": "markdown",
      "metadata": {},
      "source": [
        "---\n",
        "### PLAY SOUND IN GAME (EXTRA FEATURE)"
      ]
    },
    {
      "cell_type": "code",
      "execution_count": null,
      "metadata": {},
      "outputs": [],
      "source": [
        "# play sounds in game\n",
        "import requests\n",
        "from IPython.display import Audio\n",
        "\n",
        "# Converted Google Drive link\n",
        "url = 'https://drive.google.com/file/d/1jhDDigPt00xLUvex7Z9O5r1xmOzsYxkB/view?usp=sharing'\n",
        "\n",
        "# Fetch data and load as audio\n",
        "r = requests.get(url, allow_redirects=True)\n",
        "open('downloaded.mp3', 'wb').write(r.content)\n",
        "\n",
        "# Play the audio file\n",
        "Audio('downloaded.mp3')"
      ]
    },
    {
      "cell_type": "markdown",
      "metadata": {},
      "source": [
        "---\n",
        "### DICT : GAME TRIGGERS (EXTRA FEATURE): "
      ]
    },
    {
      "cell_type": "code",
      "execution_count": null,
      "metadata": {},
      "outputs": [
        {
          "name": "stdout",
          "output_type": "stream",
          "text": [
            "Unlocking... door unlocked sound playing 🔓\n"
          ]
        }
      ],
      "source": [
        "import requests\n",
        "from playsound import playsound\n",
        "import threading\n",
        "import time\n",
        "\n",
        "# 🎵 Game sound triggers\n",
        "game_triggers = {\n",
        "    'space': \"https://drive.google.com/uc?export=download&id=1jhDDigPt00xLUvex7Z9O5r1xmOzsYxkB\",\n",
        "    'door locked': \"https://drive.google.com/uc?export=download&id=1kKXJ3bYl5F2vQX1Z3Yz5G7H8J9L0M2N3\",\n",
        "    'door unlocked': \"https://drive.google.com/uc?export=download&id=16bhcdxVRzIRmNO0ztLaeQZYHBLPVlB8P\",\n",
        "    'footstep': \"https://drive.google.com/uc?export=download&id=1aB2cD3eF4gH5iJ6kL7mN8oP9qR0sT1U\",\n",
        "    'action': \"https://drive.google.com/uc?export=download&id=1V2wX3yZ4aB5cD6eF7gH8iJ9kL0mN1O2P\",\n",
        "    'examine item': \"https://drive.google.com/uc?export=download&id=1VwX3yZ4aB5cD6eF7gH8iJ9kL0mN1O2P\",\n",
        "}\n",
        "#----------------------------------------------------------------------------\n",
        "# 🔊 Function to play a sound in a loop for 5 minutes in the background\n",
        "def play_background_sound(trigger):\n",
        "    url = game_triggers[trigger]\n",
        "    # download the audio file\n",
        "    r = requests.get(url, allow_redirects=True)\n",
        "    with open('bg_sound.mp3', 'wb') as f:\n",
        "        f.write(r.content)\n",
        "\n",
        "    # function to loop the sound\n",
        "    def loop_sound():\n",
        "        start = time.time()\n",
        "        while time.time() - start < 300:  # 300 seconds = 5 minutes\n",
        "            playsound('bg_sound.mp3', block=True)\n",
        "\n",
        "    # start background thread so it doesn’t block the game\n",
        "    threading.Thread(target=loop_sound, daemon=True).start()\n",
        "\n",
        "# 🎮 Main trigger function\n",
        "def play_sound(trigger):\n",
        "    trigger = trigger.lower().strip()\n",
        "    if trigger == 'space':\n",
        "        print(\"Exploring... space background music playing 🔎\")\n",
        "        play_background_sound(trigger)\n",
        "    elif trigger == 'door locked':\n",
        "        print(\"Unlocking... door locked sound playing 🔒\")  # only when quiz correct answer\n",
        "        play_background_sound(trigger)\n",
        "    elif trigger == 'door unlocked':\n",
        "        print(\"Unlocking... door unlocked sound playing 🔓\")  # only when quiz correct answer\n",
        "        play_background_sound(trigger)\n",
        "    elif trigger == 'footstep':\n",
        "        print(\"Navigating... footstep sound playing 👣\")\n",
        "        play_background_sound(trigger)\n",
        "    elif trigger == 'examine item':\n",
        "        print(\"Examining... item sound playing 🕵️‍♀️\")\n",
        "        play_background_sound(trigger)\n",
        "    else:\n",
        "        print(\"No sound defined for this trigger.\")\n",
        "    # play the sound in background for 5 minutes\n",
        "    \n",
        "\n",
        "# --- Example usage ---\n",
        "\n",
        "play_sound('door unlocked')"
      ]
    },
    {
      "cell_type": "markdown",
      "metadata": {},
      "source": [
        "TEST"
      ]
    },
    {
      "cell_type": "code",
      "execution_count": null,
      "metadata": {},
      "outputs": [],
      "source": [
        "import requests\n",
        "from html import playsound\n",
        "import threading\n",
        "import time\n",
        "\n",
        "# 🎵 Game sound triggers\n",
        "game_triggers = {\n",
        "    'space': \"https://drive.google.com/uc?export=download&id=1jhDDigPt00xLUvex7Z9O5r1xmOzsYxkB\",\n",
        "    'door': \"https://drive.google.com/uc?export=download&id=16bhcdxVRzIRmNO0ztLaeQZYHBLPVlB8P\",\n",
        "    'item': \"https://drive.google.com/uc?export=download&id=1aB2cD3eF4gH5iJ6kL7mN8oP9qR0sT1U\",\n",
        "    'action': \"https://drive.google.com/uc?export=download&id=1V2wX3yZ4aB5cD6eF7gH8iJ9kL0mN1O2P\"\n",
        "}\n",
        "\n",
        "# 🔊 Function to play a sound in a loop for 5 minutes in the background\n",
        "def play_background_sound(trigger):\n",
        "    url = game_triggers[trigger]\n",
        "    # download the audio file\n",
        "    r = requests.get(url, allow_redirects=True)\n",
        "    with open('bg_sound.mp3', 'wb') as f:\n",
        "        f.write(r.content)\n",
        "\n",
        "    # function to loop the sound\n",
        "    def loop_sound():\n",
        "        start = time.time()\n",
        "        while time.time() - start < 300:  # 300 seconds = 5 minutes\n",
        "            playsound('bg_sound.mp3', block=True)\n",
        "\n",
        "    # start background thread so it doesn’t block the game\n",
        "    threading.Thread(target=loop_sound, daemon=True).start()\n",
        "\n",
        "# 🎮 Main trigger function\n",
        "def play_sound(trigger):\n",
        "    trigger = trigger.lower().strip()\n",
        "    if trigger == 'space':\n",
        "        print(\"Exploring... space background music playing 🔎\")\n",
        "    elif trigger == 'door':\n",
        "        print(\"Unlocking... door sound playing 🔓\")  # only when quiz correct answer\n",
        "    elif trigger == 'item':\n",
        "        print(\"Examining... item sound playing 🕵️‍♀️\")\n",
        "    elif trigger == 'action':\n",
        "        print(\"Performing action sound playing ⚙️\")\n",
        "    else:\n",
        "        print(\"No sound defined for this trigger.\")\n",
        "\n",
        "    # play the sound in background for 5 minutes\n",
        "    play_background_sound(trigger)\n",
        "\n",
        "# --- Example usage ---\n",
        "play_sound('space')\n",
        "play_sound('door')\n"
      ]
    },
    {
      "cell_type": "code",
      "execution_count": null,
      "metadata": {},
      "outputs": [],
      "source": [
        "import requests\n",
        "from IPython.display import Audio\n",
        "from playsound import playsound\n",
        "import threading\n",
        "import time\n",
        "\n",
        "# DICT : GAME TRIGGERS (EXTRA FEATURE)\n",
        "game_triggers = {\n",
        "    'space': \"https://drive.google.com/uc?export=download&id=1jhDDigPt00xLUvex7Z9O5r1xmOzsYxkB\",\n",
        "    'door': \"https://drive.google.com/uc?export=download&id=16bhcdxVRzIRmNO0ztLaeQZYHBLPVlB8P\",\n",
        "    'item': \"https://drive.google.com/uc?export=download&id=1aB2cD3eF4gH5iJ6kL7mN8oP9qR0sT1U\",\n",
        "    'action': \"https://drive.google.com/uc?export=download&id=1V2wX3yZ4aB5cD6eF7gH8iJ9kL0mN1O2P\"\n",
        "}\n",
        "\n",
        "\n",
        "# 🎮 definition Function : play_sound(trigger)\n",
        "def play_sound(trigger):\n",
        "    trigger = trigger.lower().strip()\n",
        "    if trigger in game_triggers:\n",
        "        print(f\"▶️ Playing {trigger} sound in the background for 5 minutes...\")\n",
        "        play_background_sound(trigger)\n",
        "    else:\n",
        "        print(\"No sound defined for this trigger.\")\n",
        "\n",
        "\n",
        "# definition Function:  play sound in a loop for 5 minutes (300 seconds) ---\n",
        "def play_background_sound(trigger):\n",
        "    url = game_triggers[trigger]\n",
        "    # download\n",
        "    r = requests.get(url, allow_redirects=True)\n",
        "    with open('bg_sound.mp3', 'wb') as f:\n",
        "        f.write(r.content)\n",
        "\n",
        "    def loop_sound():\n",
        "        start = time.time()\n",
        "        while time.time() - start < 300:  # 5 minutes = 300 seconds\n",
        "            playsound('bg_sound.mp3', block=True)\n",
        "\n",
        "    # run the loop in a background thread so it doesn’t block the game\n",
        "    threading.Thread(target=loop_sound, daemon=True).start()\n",
        "\n",
        "\n",
        "# --- Example usage ---\n",
        "play_sound('space')\n",
        "play_sound('door')\n"
      ]
    },
    {
      "cell_type": "code",
      "execution_count": null,
      "metadata": {},
      "outputs": [],
      "source": [
        "import requests\n",
        "from IPython.display import Audio\n",
        "from playsound import playsound\n",
        "import threading\n",
        "import time\n",
        "\n",
        "# DICT : GAME TRIGGERS (EXTRA FEATURE)\n",
        "game_triggers = {\n",
        "    'space': \"https://drive.google.com/uc?export=download&id=1jhDDigPt00xLUvex7Z9O5r1xmOzsYxkB\",\n",
        "    'door': \"https://drive.google.com/uc?export=download&id=16bhcdxVRzIRmNO0ztLaeQZYHBLPVlB8P\",\n",
        "    'item': \"https://drive.google.com/uc?export=download&id=1aB2cD3eF4gH5iJ6kL7mN8oP9qR0sT1U\",\n",
        "    'action': \"https://drive.google.com/uc?export=download&id=1V2wX3yZ4aB5cD6eF7gH8iJ9kL0mN1O2P\"\n",
        "}\n",
        "\n",
        "\n",
        "# 🎮 Main trigger function\n",
        "def play_sound(trigger):\n",
        "    trigger = trigger.lower().strip()\n",
        "    if trigger == 'space':\n",
        "        print(\"Exploring... space background music playing 🔎\")\n",
        "        play_from_drive(trigger)\n",
        "    elif trigger == 'door':\n",
        "        print(\"Unlocking... door sound playing 🔓\") # only when quiz correct answer\n",
        "        play_from_drive(trigger)\n",
        "    elif trigger == 'item':\n",
        "        print(\"Examining... item sound playing 🕵️‍♀️\") \n",
        "        play_from_drive(trigger)\n",
        "    elif trigger == 'action':\n",
        "        print(\"Performing action sound playing ⚙️\")\n",
        "        play_from_drive(trigger)\n",
        "    else:\n",
        "        print(\"No sound defined for this trigger.\")\n",
        "\n",
        "\n",
        "# definition Function:  play sound in a loop for 5 minutes (300 seconds) ---\n",
        "def play_background_sound(trigger):\n",
        "    url = game_triggers[trigger]\n",
        "    # download\n",
        "    r = requests.get(url, allow_redirects=True)\n",
        "    with open('bg_sound.mp3', 'wb') as f:\n",
        "        f.write(r.content)\n",
        "\n",
        "    def loop_sound():\n",
        "        start = time.time()\n",
        "        while time.time() - start < 300:  # 5 minutes = 300 seconds\n",
        "            playsound('bg_sound.mp3', block=True)\n",
        "\n",
        "    # run the loop in a background thread so it doesn’t block the game\n",
        "    threading.Thread(target=loop_sound, daemon=True).start()\n",
        "\n",
        "\n",
        "# --- Example usage ---\n",
        "play_sound('space')\n"
      ]
    },
    {
      "cell_type": "code",
      "execution_count": null,
      "metadata": {},
      "outputs": [],
      "source": [
        "import requests\n",
        "from IPython.display import HTML, display\n",
        "\n",
        "# 🎵 Game sound triggers\n",
        "game_triggers = {\n",
        "    'space': \"https://drive.google.com/uc?export=download&id=1jhDDigPt00xLUvex7Z9O5r1xmOzsYxkB\",\n",
        "    'door': \"https://drive.google.com/uc?export=download&id=16bhcdxVRzIRmNO0ztLaeQZYHBLPVlB8P\",\n",
        "    'item': \"https://drive.google.com/uc?export=download&id=1aB2cD3eF4gH5iJ6kL7mN8oP9qR0sT1U\",\n",
        "    'action': \"https://drive.google.com/uc?export=download&id=1V2wX3yZ4aB5cD6eF7gH8iJ9kL0mN1O2P\"\n",
        "}\n",
        "\n",
        "# 🔊 Download and play in a loop automatically\n",
        "def play_from_drive(trigger):\n",
        "    url = game_triggers[trigger]\n",
        "    r = requests.get(url, allow_redirects=True)\n",
        "    with open('bg_music.mp3', 'wb') as f:\n",
        "        f.write(r.content)\n",
        "\n",
        "    # HTML audio tag: autoplay + loop + hidden player\n",
        "    audio_html = \"\"\"\n",
        "    <audio autoplay loop>\n",
        "        <source src=\"bg_music.mp3\" type=\"audio/mpeg\">\n",
        "    </audio>\n",
        "    \"\"\"\n",
        "    display(HTML(audio_html))\n",
        "\n",
        "# 🎮 Main trigger function\n",
        "def play_sound(trigger):\n",
        "    trigger = trigger.lower().strip()\n",
        "    if trigger == 'space':\n",
        "        print(\"Exploring... space background music playing 🔎\")\n",
        "        play_from_drive(trigger)\n",
        "    elif trigger == 'door':\n",
        "        print(\"Unlocking... door sound playing 🔓\") # only when quiz correct answer\n",
        "        play_from_drive(trigger)\n",
        "    elif trigger == 'item':\n",
        "        print(\"Examining... item sound playing 🕵️‍♀️\") \n",
        "        play_from_drive(trigger)\n",
        "    elif trigger == 'action':\n",
        "        print(\"Performing action sound playing ⚙️\")\n",
        "        play_from_drive(trigger)\n",
        "    else:\n",
        "        print(\"No sound defined for this trigger.\")\n",
        "\n",
        "# --- Example usage ---\n",
        "play_sound('space')\n"
      ]
    },
    {
      "cell_type": "markdown",
      "metadata": {
        "id": "ZDZJw1bQEmZJ"
      },
      "source": [
        "---\n",
        "## GAME FUNCTIONS\n",
        "PLAYER ACTION takes player_input to then call another function from a list of actions  using utils.py file with those functions "
      ]
    },
    {
      "cell_type": "markdown",
      "metadata": {
        "id": "92uf9jaCiq0z"
      },
      "source": [
        "#### ACTION 0 : SHOW AVAILABLE ACTIONS + PLAYER INPUT\n",
        "```\n",
        "SABINA COMMENT: You can do `return action` instead of `break`. `return` automatically stops the function so because the while loop is INSIDE the function, then it will stop as well once the action is returned.\n",
        "\n",
        "```"
      ]
    },
    {
      "cell_type": "markdown",
      "metadata": {},
      "source": [
        "---\n",
        "### GAME INTRO:"
      ]
    },
    {
      "cell_type": "code",
      "execution_count": 2,
      "metadata": {},
      "outputs": [
        {
          "name": "stdout",
          "output_type": "stream",
          "text": [
            "\n",
            "************************************************************\n",
            "*****         WELCOME TO THE ESCAPE ROOM GAME!         *****\n",
            "*****               Made by POSH SPICE                 *****\n",
            "************************************************************\n",
            "\n"
          ]
        }
      ],
      "source": [
        "# initialize game by printing welcome message\n",
        "\n",
        "\n",
        "# Big \"Time's Up\" banner\n",
        "print(\"\\n\" + \"*\"*60)\n",
        "print(\"*****         WELCOME TO THE ESCAPE ROOM GAME!         *****\")\n",
        "print(\"*****               Made by POSH SPICE                 *****\")\n",
        "print(\"*\"*60 + \"\\n\")"
      ]
    },
    {
      "cell_type": "markdown",
      "metadata": {},
      "source": [
        "---\n",
        "### Libraries & packages:"
      ]
    },
    {
      "cell_type": "code",
      "execution_count": null,
      "metadata": {},
      "outputs": [],
      "source": [
        "import sys\n",
        "sys.path.append(\"modules\")  # add the folder to Python path\n",
        "import utils # functions in python file utils.py"
      ]
    },
    {
      "cell_type": "markdown",
      "metadata": {},
      "source": [
        "### ACTION 0 : SHOW AVAILABLE ACTIONS + PLAYER INPUT"
      ]
    },
    {
      "cell_type": "code",
      "execution_count": null,
      "metadata": {},
      "outputs": [],
      "source": [
        "# define function : update_game_state() to reset game state\n",
        "def update_game_state():\n",
        "    game_state['space path'] = ['game room']\n",
        "    game_state['item path'] = ['couch','piano']\n",
        "    game_state['inventory'] = ['key door A']\n",
        "\n",
        "# define function : restart_game_state() to reset game state\n",
        "def restart_game_state():\n",
        "    game_state['space path'] = ['game room']\n",
        "    game_state['item path'] = []\n",
        "    game_state['inventory'] = []"
      ]
    },
    {
      "cell_type": "code",
      "execution_count": null,
      "metadata": {},
      "outputs": [],
      "source": [
        "#ACTION 0) define function : player_action(player_input)\n",
        "# While Loop, if else, break, return : player_action function\n",
        "def player_action(player_input: str):\n",
        "    while player_input != 'quit' and player_input != 'restart': # While player_input is not 'quit' and 'restart'\n",
        "        print(\"\\nChoose an actions :\",actions) # Print the list of actions\n",
        "        action = input(\"PLAYER! Choose your action :\").lower() # Player inputs space of choice\n",
        "        if action in actions:\n",
        "            return action\n",
        "        elif action == 'quit': # Exit the function to restart the game\n",
        "            print(\"Quitting the game. Goodbye!\")\n",
        "            break\n",
        "        elif action == 'restart': # Restart the game\n",
        "            print(\"Game restarting!\")\n",
        "            update_game_state()\n",
        "            player_action('play')\n",
        "        else:\n",
        "            print(\"Value Error, choose again!\")\n",
        "    return action"
      ]
    },
    {
      "cell_type": "code",
      "execution_count": null,
      "metadata": {},
      "outputs": [],
      "source": [
        "# Call player_action function with player_input\n",
        "action = player_action(player_input)\n",
        "print(f\"Player input the  action : {action}\")"
      ]
    },
    {
      "cell_type": "code",
      "execution_count": null,
      "metadata": {},
      "outputs": [],
      "source": [
        "current_space = 'game room'\n",
        "\n",
        "def quiz(current_door):\n",
        "    # Quiz function to unlock doors\n",
        "    if (game_state.inventory in current_door):\n",
        "        print(\"This door is already unlocked ~ you can proceed!\")\n",
        "        return player_action('play')\n",
        "    else:\n",
        "        print(\"Answer the following question to unlock the door:\")\n",
        "        print(\"What is 7 + 6?\")\n",
        "        answer = int(input(\"Your answer: \"))\n",
        "        if answer == 13:\n",
        "            print(\"Correct! The door is now unlocked...\")\n",
        "            game_state.inventory.append(current_door)\n",
        "            return True\n",
        "        else:\n",
        "            print(\"Incorrect answer. Try again!\")\n",
        "            return quiz(current_door)\n",
        "    return player_action('play')\n",
        "\n",
        "# call function: quiz()\n",
        "quiz('door A')"
      ]
    },
    {
      "cell_type": "code",
      "execution_count": null,
      "metadata": {},
      "outputs": [],
      "source": [
        "import utils\n",
        "  # define Function : player_input()\n",
        "  def player_input():\n",
        "    player_input = input(\"PLAYER! Choose your action :\")  # player inputs action from list actions\n",
        "    # While Loops until we are outside condition\n",
        "    while True:\n",
        "      if player_input in actions:\n",
        "        print(\"Player chose to : \",player_input)\n",
        "        action = player_input\n",
        "        break\n",
        "      else:\n",
        "        print(\"Typing Error, choose your action again!\")\n",
        "    return (getattr(utils, action)())\n",
        "\n",
        "  # Call Function : player_action()\n",
        "  player_input()"
      ]
    },
    {
      "cell_type": "code",
      "execution_count": null,
      "metadata": {},
      "outputs": [],
      "source": [
        "import utils\n",
        "\n",
        "# Define actions list\n",
        "actions = [\"run\", \"attack\", \"defend\"]  # Example actions, replace with your own\n",
        "\n",
        "# Define Function: player_input()\n",
        "def player_input():\n",
        "    while True:\n",
        "        player_action = input(\"PLAYER! Choose your action: \")  # ask for input inside loop\n",
        "        if player_action in actions:\n",
        "            print(\"Player chose to:\", player_action)\n",
        "            return getattr(utils, player_action)()  # call the function from utils\n",
        "        else:\n",
        "            print(\"Typing Error, choose your action again!\")\n",
        "\n",
        "# Call Function: player_input()\n",
        "player_input()\n"
      ]
    },
    {
      "cell_type": "code",
      "execution_count": null,
      "metadata": {},
      "outputs": [],
      "source": [
        "# LIST : actions available to a player\n",
        "actions = ['explore', 'examine', 'unlock door', 'navigate', 'restart', 'quit']\n",
        "print(\"Player's actions in the game :\",actions)\n",
        "\n",
        "# LIST : items\n",
        "items = ['couch', 'piano', 'queen bed', 'double bed', 'dresser', \"dining table\"]\n",
        "print(\"\\nItems in the game :\",items)\n",
        "\n",
        "# LIST : doors\n",
        "doors = ['door A', 'door B', 'door C', 'door D']\n",
        "print(\"\\nDoors in the game :\",doors)\n",
        "\n",
        "# LIST : keys\n",
        "keys = ['key door A', 'key door B', 'key door C', 'key door D']\n",
        "print(\"\\nKeys in the game :\",keys)"
      ]
    },
    {
      "cell_type": "code",
      "execution_count": null,
      "metadata": {},
      "outputs": [],
      "source": [
        "# use getattr to call explore function from utils  \n",
        "player_input = '' #initialize player_input variable\n",
        "print(\"Here is a list of actions :\",actions) # Print the list of actions\n",
        "\n",
        "player_input= input(\"PLAYER! Type your next move and press <Enter>: \").lower() \n",
        "player_action(player_input)\n",
        "print(f\"\\nPlayer input your action : {getattr(utils, action)}\")\n",
        "\n",
        "function_return = getattr(utils, action)()  # Call the function with the same name as the action\n",
        "print(\"Return:\", function_return)"
      ]
    },
    {
      "cell_type": "code",
      "execution_count": null,
      "metadata": {},
      "outputs": [],
      "source": [
        "import utils\n",
        "\n",
        "# define Function : explore(current_space)\n",
        "\n",
        "current_space = 'game room'\n",
        "# Function: explore(current_space)\n",
        "def explore(current_space):\n",
        "    print(f\"You are exploring {current_space}. You see these items:\")\n",
        "    for item in items:\n",
        "        print(\"-\", item)\n",
        "    return items\n",
        "\n",
        "action = 'explore'\n",
        "# use getattr to call explore function from utils  \n",
        "print(f\"\\nPlayer input your action : {action}\")\n",
        "function_return = getattr(utils, action)()  # Call the function with the same name as the action\n",
        "print(\"Return:\", function_return)"
      ]
    },
    {
      "cell_type": "code",
      "execution_count": null,
      "metadata": {},
      "outputs": [],
      "source": [
        "import utils\n",
        "\n",
        "# List of actions\n",
        "actions = ['explore', 'examine', 'unlock_door', 'navigate', 'restart', 'quit']\n",
        "\n",
        "# Example: dynamically call function based on the list\n",
        "for action in actions:\n",
        "    print(f\"\\nCalling action: {action}\")\n",
        "    function_return = getattr(utils, action)()  # Call the function with the same name as the action\n",
        "    print(\"Return:\", function_return)"
      ]
    },
    {
      "cell_type": "markdown",
      "metadata": {
        "id": "fT9WMHALilib"
      },
      "source": [
        "\n",
        "#### ACTION 1 : EXPLORE(current_space) returns items which is list of furnitures in current_space"
      ]
    },
    {
      "cell_type": "code",
      "execution_count": null,
      "metadata": {},
      "outputs": [],
      "source": [
        "import utils\n",
        "\n",
        "# initialize current space\n",
        "current_space = 'game room'\n",
        "\n",
        "# update current space from user input \n",
        "current_space = input(\"Which space you are in?\")\n",
        "\n",
        "# define Function : explore(current_space)\n",
        "def explore(current_space):\n",
        "    items = []\n",
        "    if current_space == 'game room':\n",
        "        items = ['couch', 'piano', 'queen bed', 'double bed', 'dresser', \"dining table\"]\n",
        "    elif current_space == 'kitchen':\n",
        "        items = ['fridge', 'oven', 'sink', 'table', 'chairs']\n",
        "    elif current_space == 'bedroom':\n",
        "        items = ['bed', 'wardrobe', 'nightstand', 'lamp']\n",
        "    return items # return items in the current space\n",
        "\n",
        "explore(\n",
        "    utils.explore()\n",
        ")"
      ]
    },
    {
      "cell_type": "markdown",
      "metadata": {
        "id": "U8FK_iU6ibPb"
      },
      "source": [
        "#### ACTION 3 : UNLOCK DOOR\n",
        "```\n",
        "\n",
        "  # Define Function : def unlock_door():\n",
        "  def unlock_door():\n",
        "    door = input(\"Type the door you want to try unlock : \")\n",
        "  return door\n",
        "\n",
        "  # Call Function : unlock_door()\n",
        "  unlock_door()\n",
        "\n",
        "---------------------------------------------------------------\n",
        "#### Compare two strings using if 'door A' in inventory list of keys\n",
        "#### since \"door A\" is part of the string \"key door A\" we get true\n",
        "#### or we can approach it in a different way\n",
        "```"
      ]
    },
    {
      "cell_type": "code",
      "execution_count": null,
      "metadata": {
        "colab": {
          "base_uri": "https://localhost:8080/",
          "height": 54
        },
        "id": "pw5_s4j24fda",
        "outputId": "80ee96b0-6c65-4221-92f5-7c28b5a64d64"
      },
      "outputs": [],
      "source": [
        "#\n",
        "\n",
        "# Define Function : def unlock_door():\n",
        "def unlock_door():\n",
        "  door = input(\"Type the door you want to try unlock : \")\n",
        "  return door\n",
        "\n",
        "# Call Function : unlock_door()\n",
        "unlock_door()"
      ]
    },
    {
      "cell_type": "markdown",
      "metadata": {
        "id": "8d-gk11hiYAE"
      },
      "source": [
        "\n",
        "#### ACTION 4 : NAVIGATE\n",
        "```\n",
        "\n",
        "  # Define Function : def navigate():\n",
        "  def navigate():\n",
        "    answer = low(input(\"Test key? Answer yes or no\"))   \n",
        "    # yes = True | no = False\n",
        "    if answer=yes\n",
        "    current_space =\n",
        "  return current_space\n",
        "\n",
        "  # Call Function : navigate()\n",
        "  navigate()\n",
        "\n",
        "---------------------------------------------------------------\n",
        "####\n",
        "####\n",
        "####\n",
        "```"
      ]
    },
    {
      "cell_type": "markdown",
      "metadata": {
        "id": "h0jtqrpGiDCd"
      },
      "source": [
        "### PLAYER ACTIONS"
      ]
    },
    {
      "cell_type": "markdown",
      "metadata": {
        "id": "mkAFUYxyjRIb"
      },
      "source": [
        "We define actions of the player"
      ]
    },
    {
      "cell_type": "code",
      "execution_count": null,
      "metadata": {
        "colab": {
          "base_uri": "https://localhost:8080/"
        },
        "id": "5NrAlNM0Jghg",
        "outputId": "815f18d0-3143-46a6-88d7-fedaa874ce00"
      },
      "outputs": [],
      "source": []
    },
    {
      "cell_type": "code",
      "execution_count": null,
      "metadata": {
        "id": "1JKg6dc4zy7_"
      },
      "outputs": [],
      "source": [
        "examine = ['couch', 'piano', 'dinning table', ...]\n",
        "#compare examine with current_space\n",
        "\n",
        "\n",
        "#"
      ]
    },
    {
      "cell_type": "markdown",
      "metadata": {
        "id": "Z8axtcgYjax6"
      },
      "source": [
        "**STEPS:**\n",
        "1. We show the actions for the Player\n",
        "2. We prompt the player to choose with error handling in mind\n",
        "3. We print the chosen action\n"
      ]
    },
    {
      "cell_type": "code",
      "execution_count": null,
      "metadata": {
        "colab": {
          "base_uri": "https://localhost:8080/"
        },
        "id": "76a1cI9H8dmk",
        "outputId": "8b66019d-801b-4f50-a50d-0c18908e4134"
      },
      "outputs": [],
      "source": [
        "# List: Actions available to the player\n",
        "actions = ['explore', 'examine', 'unlock door', 'navigate', 'quit', 'restart'] # definition of list of actions\n",
        "\n",
        "# Print the list\n",
        "print(\"Here is a list of actions :\",actions)\n",
        "player_input = 'play'\n",
        "\n",
        "# While Loop, if else, break : action_choice\n",
        "while player_input != 'quit': # While Loop\n",
        "  action_choice = input(\"PLAYER! Choose your action :\").lower() # Player inputs space of choice\n",
        "\n",
        "  if action_choice in actions:\n",
        "    print(\"Player chose to :\",action_choice)\n",
        "    break\n",
        "  else:\n",
        "    print(\"Typing Error, choose again!\")\n",
        "    # SABINA COMMENT: This would technically be a ValueError, not TypingError. Typing error is when you input a float instead of a string\n",
        "    # but Value error is when you put \"get me out of the game\" instead of \"quit\"\n"
      ]
    },
    {
      "cell_type": "code",
      "execution_count": null,
      "metadata": {
        "colab": {
          "base_uri": "https://localhost:8080/",
          "height": 106
        },
        "id": "Ul-AiQei3e06",
        "outputId": "c925cecc-4192-4b1d-da09-6a634f9c79c3"
      },
      "outputs": [],
      "source": [
        "# Function unlock door\n",
        "door = 'door A'\n",
        "door = 'door B'\n",
        "def navigate(door):\n",
        "  if door in 'key door A' # SABINA COMMENT: This value is hard-coded, so this function\n",
        "                          # will only work for opening door A and it will cause you issues down the line...\n",
        "    print('unlocked! you enter a new space.')\n",
        "  else:\n",
        "    print('door locked! you need a key.')\n",
        "    return door\n",
        "\n",
        "\n"
      ]
    },
    {
      "cell_type": "code",
      "execution_count": null,
      "metadata": {
        "colab": {
          "base_uri": "https://localhost:8080/",
          "height": 256
        },
        "id": "WnuPY2XVpyFw",
        "outputId": "02199d39-f3c4-40d3-9d54-fcd3bfdd9d88"
      },
      "outputs": [],
      "source": [
        "# ACTION 0 : Define Function : PRINT AVAILABLE CHOICES\n",
        "def player_choice():\n",
        "  choice = input(\"Choose what action you want to do:\")\n",
        "  return choice\n",
        "player_choice() # Call function\n",
        "\n",
        "# ACTION 1 : EXPLORE SPACE\n",
        "# Define Function :\n",
        "def explore_space():\n",
        "  space = input(\"Which item do you want to examine?\")\n",
        "  return\n",
        "\n",
        "# ACTION 2 : EXAMINE ITEM\n",
        "# Define Function :\n",
        "def examine_item():\n",
        "  item = input(\"Which item do you want to examine? \")\n",
        "  return item\n",
        "\n",
        "# SABINA CLARIFICATION: What's happening with the examine_item? Will you be adding more things in this function?\n",
        "\n",
        "\n",
        "# Use the return to compare\n",
        "if examine_item() in actions[examine]:\n",
        "  print(\"Player examines the :\", examine_item())\n",
        "\n",
        "# ACTION 3 : UNLOCK DOOR\n",
        "# Define Function :\n",
        "def unlock_door():\n",
        "  if 'door A' in 'key door A':\n",
        "    door='door A'\n",
        "  return door\n",
        "\n",
        "# ACTION 4 : ENTER SPACE\n",
        "# Define Function :\n",
        "def enter_space():\n",
        "  return current_space"
      ]
    },
    {
      "cell_type": "markdown",
      "metadata": {
        "id": "hV0jEIloie6N"
      },
      "source": [
        "#### ACTION 2 : EXAMINE ITEM\n",
        "```\n",
        "\n",
        "  # Define Function : def examine_item(space):\n",
        "  def examine_item(space):\n",
        "    \n",
        "    item = input(\"Type the item you want to examine : \")\n",
        "  return item\n",
        "\n",
        "  # Call Function : examine_item()\n",
        "  examine_item()\n",
        "\n",
        "# Call Function : examine_item(current_item)\n",
        "  examine_item()\n",
        "  \n",
        "---------------------------------------------------------------\n",
        "#### Use the return to compare\n",
        "#### if examine_item() in actions[examine]:\n",
        "#### print(\"Player examines the :\", examine_item())\n",
        "```"
      ]
    },
    {
      "cell_type": "code",
      "execution_count": null,
      "metadata": {
        "id": "0YHxqDwbnBUv"
      },
      "outputs": [],
      "source": [
        "# ACTION 2 : EXAMINE ITEM\n",
        "# Define Function : examine_item\n",
        "def examine_item(item):\n",
        "  item=int(input(\"Choose the item to examine: \"))\n",
        "  return item\n"
      ]
    },
    {
      "cell_type": "markdown",
      "metadata": {
        "id": "O9pz8-XEaBOd"
      },
      "source": [
        "## HOW TO DO"
      ]
    },
    {
      "cell_type": "code",
      "execution_count": null,
      "metadata": {
        "colab": {
          "base_uri": "https://localhost:8080/"
        },
        "id": "i6kVhqhGccvu",
        "outputId": "12a554e1-6f15-4829-a1e7-f981ea7d4346"
      },
      "outputs": [],
      "source": [
        "# HOW TO : Access keys of the dictionary using .keys()\n",
        "game_keys = game_areas.keys()\n",
        "print(game_keys)"
      ]
    },
    {
      "cell_type": "code",
      "execution_count": null,
      "metadata": {
        "colab": {
          "base_uri": "https://localhost:8080/"
        },
        "id": "WZgJIzpFwoeK",
        "outputId": "3c8f30f1-cac6-4afe-c219-51b436b8c8cd"
      },
      "outputs": [],
      "source": [
        "# HOW TO : count (Number of elements) in a (List)\n",
        "# Example\n",
        "my_list = [\"apple\", \"banana\", \"cherry\"]\n",
        "\n",
        "# Using len() to get the number of elements\n",
        "number_of_elements = len(my_list)\n",
        "\n",
        "# Now, number_of_elements holds the number of elements in the list\n",
        "print(\"The number of elements in the list is:\", number_of_elements)\n",
        "# SABINA COMMENT: no_of_elements is a bit shorter and still understandable"
      ]
    },
    {
      "cell_type": "code",
      "execution_count": null,
      "metadata": {
        "colab": {
          "base_uri": "https://localhost:8080/"
        },
        "id": "70aWN53AL55-",
        "outputId": "c0f96b9c-fd1b-4b83-ad33-8e5e32bb29e3"
      },
      "outputs": [],
      "source": [
        "# HOW TO : access an (element) of a (list)\n",
        "print(\"\\nAccessing an element in a List of Actions:\")\n",
        "number_actions = len(actions)\n",
        "for i in range(number_actions):\n",
        "  print(\"-\", actions[i])\n",
        "\n",
        "# Automated Access"
      ]
    },
    {
      "cell_type": "code",
      "execution_count": null,
      "metadata": {
        "colab": {
          "base_uri": "https://localhost:8080/"
        },
        "id": "lxzQsOzEiVT6",
        "outputId": "3ac5d41c-c76b-4f82-8892-6cd4bb077918"
      },
      "outputs": [],
      "source": [
        "# HOW TO : access a (value) in a (dictionary)\n",
        "print(\"\\nAccessing a value in a Dictionary value:\")\n",
        "print(game_areas[\"Living Room\"])\n",
        "\n",
        "\n",
        "# HOW TO : access an (element) of a list (value) in a (dictonary)\n",
        "# Example How to access 'piano' in this dictionary\n",
        "print(\"\\nAccessing an element of a list value in a dictionary:\")\n",
        "print(game_areas[\"Living Room\"][2])"
      ]
    },
    {
      "cell_type": "code",
      "execution_count": null,
      "metadata": {
        "id": "LmWn4pvtpWPu"
      },
      "outputs": [],
      "source": [
        "# HOW TO : define a Function :\n",
        "def examine_item():\n",
        "  a=int(input(\"Enter number a: \"))\n",
        "  b=int(input(\"Enter number b: \"))\n",
        "  return a+b"
      ]
    },
    {
      "cell_type": "code",
      "execution_count": null,
      "metadata": {
        "colab": {
          "base_uri": "https://localhost:8080/"
        },
        "id": "N1dbpllqkOFb",
        "outputId": "f55d1e1c-2e20-405f-f131-45906f8786d2"
      },
      "outputs": [],
      "source": [
        "# HOW TO : How to define a Function - METHOD 1\n",
        "# Define Function : sums numbers does not take immediate input:\n",
        "def sum_numbers():\n",
        "  a=int(input(\"Enter number a: \"))\n",
        "  b=int(input(\"Enter number b: \"))\n",
        "  return a+b\n",
        "\n",
        "# Call Function : sum_numbers()\n",
        "sum_numbers()"
      ]
    },
    {
      "cell_type": "code",
      "execution_count": null,
      "metadata": {
        "colab": {
          "base_uri": "https://localhost:8080/"
        },
        "id": "8YfPImWVn0NO",
        "outputId": "d2b42312-321b-45bb-da43-fc30f223206f"
      },
      "outputs": [],
      "source": [
        "# HOW TO : How to define a Function - METHOD 2\n",
        "# Define Function : sums numbers does not take immediate input :\n",
        "def sum_numbers(a,b):\n",
        "  return a+b\n",
        "\n",
        "# Manual input for a Function variables\n",
        "a=int(input(\"Enter number a: \"))\n",
        "b=int(input(\"Enter number b: \"))\n",
        "\n",
        "# Call Function : sum_numbers(a,b)\n",
        "sum_numbers(a,b) # using a,b variables from the input outside of function definition"
      ]
    },
    {
      "cell_type": "markdown",
      "metadata": {
        "id": "fbr1D6bxhNBl"
      },
      "source": [
        "## DIFFERENT CODE TEST"
      ]
    },
    {
      "cell_type": "code",
      "execution_count": null,
      "metadata": {
        "colab": {
          "base_uri": "https://localhost:8080/",
          "height": 371
        },
        "id": "9rw4cYYRhDqQ",
        "outputId": "4b87e397-ae05-4449-9946-f73236bdf483"
      },
      "outputs": [],
      "source": [
        "# CODE : Automate access of an (element) of a (value) in a (dictonary)\n",
        "search = input(\"Enter what element you're searching : \")\n",
        "for i in spaces:\n",
        "  for y in len(spaces):\n",
        "    print(game_areas.space[i][y])\n",
        "# SABINA QUESTION : We are curious to how to automate access to an element of a value that is a list in a dictionary\n",
        "# for i in range(len(list)): -> this iterates over the same number as the elements in a list"
      ]
    },
    {
      "cell_type": "code",
      "execution_count": null,
      "metadata": {
        "id": "90nG7r_ykjLy"
      },
      "outputs": [],
      "source": [
        "# CODE :\n",
        "# Update current space\n",
        "current_space = game_areas.keys()\n",
        "\n",
        "# Note: You might want to iterate through the keys or access a specific key depending on your game logic.\n",
        "# For example, to access the first key:\n",
        "# first_room = list(current_space)[0]\n",
        "# print(f\"The first room is: {first_room}\")"
      ]
    },
    {
      "cell_type": "code",
      "execution_count": null,
      "metadata": {
        "colab": {
          "base_uri": "https://localhost:8080/"
        },
        "id": "L4d9dbiDXpNW",
        "outputId": "1ba2bce1-ca4d-459b-b8b5-bd5e23e4f427"
      },
      "outputs": [],
      "source": [
        "# CODE :\n",
        "# Current space is a value\n",
        "# It will get updated\n",
        "# 1st Space\n",
        "current_space = \"Game Room\"\n",
        "print(\"1st space is :\", current_space)\n",
        "\n",
        "# 2nd Space\n",
        "current_space = \"Bedroom 1\"\n",
        "print(\"2nd space is :\", current_space)\n",
        "\n",
        "# 3rd Space\n",
        "current_space = \"Bedroom 2\"\n",
        "print(\"3rd space is :\", current_space)\n"
      ]
    },
    {
      "cell_type": "code",
      "execution_count": null,
      "metadata": {
        "colab": {
          "base_uri": "https://localhost:8080/"
        },
        "id": "nqAbAXK4YT71",
        "outputId": "0839b25f-0309-4ff8-d7ef-36c0fd8fd837"
      },
      "outputs": [],
      "source": [
        "# CODE :\n",
        "# List : current_space\n",
        "current_space = [\"Game Room\"]\n",
        "# 1st Space\n",
        "print(\"1st space is :\", current_space[0])\n",
        "\n",
        "space_path = [\"Game Room\", \"Bedroom 1\", \"Bedroom 2\", \"Bedroom 1\", \"Living Room\", \"Outside\"]"
      ]
    },
    {
      "cell_type": "code",
      "execution_count": null,
      "metadata": {
        "colab": {
          "base_uri": "https://localhost:8080/"
        },
        "id": "FH4LJXOqQcGz",
        "outputId": "baa6e2a8-aa5b-4243-9fd5-647538f3170c"
      },
      "outputs": [],
      "source": [
        "# CODE :\n",
        "# Mapping the best shortest player's space path\n",
        "space_path = [\"Game Room\", \"Bedroom 1\", \"Bedroom 2\", \"Bedroom 1\", \"Living Room\", \"Outside\"]\n",
        "\n",
        "# Print shortest space path map\n",
        "print(space_path)"
      ]
    },
    {
      "cell_type": "code",
      "execution_count": null,
      "metadata": {
        "colab": {
          "base_uri": "https://localhost:8080/"
        },
        "id": "XOzSvbxVPxsU",
        "outputId": "e9a5f03b-27ff-4037-d88e-a4dfa7c3f97a"
      },
      "outputs": [],
      "source": [
        "# CODE :\n",
        "# List : paths\n",
        "space_paths = [\"Game Room\"]\n",
        "\n",
        "# Print List space_paths\n",
        "print(space_paths)"
      ]
    },
    {
      "cell_type": "code",
      "execution_count": null,
      "metadata": {
        "id": "f-y485WQWfMo"
      },
      "outputs": [],
      "source": [
        "# CODE :\n",
        "# Updating List space_paths by adding current_space\n",
        "space_paths.add(current_space)"
      ]
    },
    {
      "cell_type": "code",
      "execution_count": null,
      "metadata": {
        "colab": {
          "base_uri": "https://localhost:8080/"
        },
        "id": "Y7ioFvmQPpZs",
        "outputId": "d9462ac4-fc2f-4d04-ae05-6de92e8d09e6"
      },
      "outputs": [],
      "source": [
        "# CODE :\n",
        "#Print values of each list seperately\n",
        "for i in spaces:\n",
        "  print(game_areas[i])"
      ]
    },
    {
      "cell_type": "code",
      "execution_count": null,
      "metadata": {
        "colab": {
          "base_uri": "https://localhost:8080/"
        },
        "id": "cq5YcBO4K1-w",
        "outputId": "5e2c3fbf-9671-4b5a-f9e6-a28965c3e842"
      },
      "outputs": [],
      "source": [
        "# CODE :\n",
        "# List: Furniture list for all the items to be examined in order to find the keys\n",
        "examine = ['couch', 'piano', 'queen bed', 'double bed', 'dresser', 'dining table']\n",
        "print(\"Furnitures to examine:\",examine)\n",
        "\n",
        "# Compare examine with current space to update the inventory"
      ]
    },
    {
      "cell_type": "code",
      "execution_count": null,
      "metadata": {
        "colab": {
          "base_uri": "https://localhost:8080/"
        },
        "id": "hYC9IlyZODnF",
        "outputId": "ad16f921-e68c-446b-93c7-2c06b8a07fcb"
      },
      "outputs": [],
      "source": [
        "# CODE :\n",
        "# Compare the elements in the current space with examine furniture\n",
        "\n",
        "if game_areas[\"Living Room\"][0] in examine:\n",
        "    print(\"found\")\n",
        "else:\n",
        "    print(\"not found\")"
      ]
    },
    {
      "cell_type": "code",
      "execution_count": null,
      "metadata": {
        "id": "tL9p9-y9i_Nj"
      },
      "outputs": [],
      "source": [
        "# CODE :\n",
        "# Update Current Space METHOD compare with furniture in the space\n",
        "for i in spaces:\n",
        "  if game_areas[\"Bedroom 1\"][0] in examine:\n",
        "    print(\"found\")\n",
        "  else:\n",
        "    print(\"not found\")\n",
        "# Use BREAK to leave loop when found\n",
        "\n",
        "# Update current space METHOD compare with doors in the space"
      ]
    },
    {
      "cell_type": "code",
      "execution_count": null,
      "metadata": {
        "colab": {
          "base_uri": "https://localhost:8080/"
        },
        "id": "PBfp9C9zV_YW",
        "outputId": "95af4563-6262-43ed-c08b-64dc87106806"
      },
      "outputs": [],
      "source": [
        "# CODE :\n",
        "# Manual Access an action (element) of a list\n",
        "print(\"\\nAccessing an element in List of ACTIONS :\",actions[1])"
      ]
    },
    {
      "cell_type": "code",
      "execution_count": null,
      "metadata": {
        "colab": {
          "base_uri": "https://localhost:8080/"
        },
        "id": "5oX0XZ3KKqe4",
        "outputId": "445e0cab-5e37-40bb-9b38-44caa75c51d4"
      },
      "outputs": [],
      "source": [
        "# CODE :\n",
        "# List: Inventory of the aquired keys to unlock the doors\n",
        "Inventory = []\n",
        "print(\"Inventory :\", Inventory)\n",
        "\n",
        "# Update Inventory example (still in game room and found key door A)\n",
        "Inventory = [\"key door A\"]\n",
        "print(\"Inventory :\", Inventory)"
      ]
    },
    {
      "cell_type": "code",
      "execution_count": null,
      "metadata": {
        "colab": {
          "base_uri": "https://localhost:8080/"
        },
        "id": "IJEcIhvoMdcG",
        "outputId": "5ad175c6-4b4c-4a0d-ebf9-ef77510286f7"
      },
      "outputs": [],
      "source": [
        "# CODE :\n",
        "# List: Furniture list found in current space\n",
        "furniture_found = []\n",
        "print(\"Furniture found :\", furniture_found)\n",
        "\n",
        "# Example List: Furniture list found in start space\n",
        "furniture_found = ['couch']\n",
        "print(\"Furniture found :\", furniture_found)"
      ]
    },
    {
      "cell_type": "markdown",
      "metadata": {
        "id": "mUY72_DgcWh2"
      },
      "source": [
        "SABINA COMMENT: I see you don't have the code from the loop here. I would say to add that in so you can test the changes you do to the functions every time you make a change. At the moment it looks like you're focusing on all the different elements but don't have the full picture.\n",
        "\n",
        "**So please try to make a working loop (either the one in the sample_code or one that you create with your own actions) as your next step before you work on any more details! The MVP (Minimum Viable Product) needs to come first!**"
      ]
    },
    {
      "cell_type": "markdown",
      "metadata": {},
      "source": [
        "# GAME CODE"
      ]
    },
    {
      "cell_type": "code",
      "execution_count": null,
      "metadata": {},
      "outputs": [],
      "source": [
        "# Start the game by printing storyline message and initial game state\n",
        " \n",
        "print('''\n",
        "    You wake up on a couch and find yourself in a strange house with no windows which you have never been to before.\n",
        "    You don't remember why you are here and what had happened before. \n",
        "    You feel some unknown danger is approaching and you must get out of the house, NOW!\n",
        "          ''')\n",
        "current_space = 'game room'\n",
        "# call function player_action(player_input='play')\n",
        "player_action('play') \n",
        "# call explore(current_space) current_space stored in game_state dictionary\n",
        "getattr(utils, \"explore\")(game_state[\"current_space\"]) \n"
      ]
    },
    {
      "cell_type": "code",
      "execution_count": null,
      "metadata": {},
      "outputs": [],
      "source": [
        "# define function INIT_GAME_STATE()\n",
        "def INIT_GAME_STATE():\n",
        "    \"\"\"\n",
        "    Initialize the game state\n",
        "    \"\"\"\n",
        "    return {\n",
        "        \"current_space\": \"Game Room\",\n",
        "        \"inventory\": [],\n",
        "    }"
      ]
    },
    {
      "cell_type": "code",
      "execution_count": null,
      "metadata": {},
      "outputs": [],
      "source": [
        "# Initialize game state in Game Room\n",
        "game_state = INIT_GAME_STATE()\n",
        "# call function start_game()\n",
        "start_game()"
      ]
    },
    {
      "cell_type": "code",
      "execution_count": null,
      "metadata": {},
      "outputs": [],
      "source": [
        "# define function start_game()\n",
        "def start_game():\n",
        "    \"\"\"\n",
        "    Start the game\n",
        "    \"\"\"\n",
        "    print(\"You wake up on a couch and find yourself in a strange house with no windows which you have never been to before. You don't remember why you are here and what had happened before. You feel some unknown danger is approaching and you must get out of the house, NOW!\")\n",
        "    play_room(game_state[\"current_space\"])"
      ]
    },
    {
      "cell_type": "code",
      "execution_count": null,
      "metadata": {},
      "outputs": [],
      "source": [
        "# define function linebreak()\n",
        "def linebreak():\n",
        "    \"\"\"\n",
        "    Print a line break\n",
        "    \"\"\"\n",
        "    print(\"\\n\\n\")"
      ]
    }
  ],
  "metadata": {
    "colab": {
      "include_colab_link": true,
      "provenance": []
    },
    "kernelspec": {
      "display_name": "base",
      "language": "python",
      "name": "python3"
    },
    "language_info": {
      "codemirror_mode": {
        "name": "ipython",
        "version": 3
      },
      "file_extension": ".py",
      "mimetype": "text/x-python",
      "name": "python",
      "nbconvert_exporter": "python",
      "pygments_lexer": "ipython3",
      "version": "3.13.5"
    }
  },
  "nbformat": 4,
  "nbformat_minor": 0
}
