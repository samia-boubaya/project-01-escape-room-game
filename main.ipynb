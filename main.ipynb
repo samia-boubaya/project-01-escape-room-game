{
  "cells": [
    {
      "cell_type": "markdown",
      "metadata": {
        "colab_type": "text",
        "id": "view-in-github"
      },
      "source": [
        "<a href=\"https://colab.research.google.com/github/samia-boubaya/project-01-escape-room-game/blob/main/main.ipynb\" target=\"_parent\"><img src=\"https://colab.research.google.com/assets/colab-badge.svg\" alt=\"Open In Colab\"/></a>"
      ]
    },
    {
      "cell_type": "markdown",
      "metadata": {
        "id": "SHcf1oE4dt3m"
      },
      "source": [
        "---\n",
        "# **PROJECT 01: ESCAPE ROOM GAME**\n",
        "### IRONHACK DATA BOOTCAMP\n",
        "\n",
        "Welcome to escape room quest\n",
        "\n",
        "You wake up in a couch in a misteryous house with locked doors.\n",
        "Your mission: Find the keys, unlock each room, and escape to freedom!\n",
        "\n",
        "In this notebook we start by building the data structures that define the game world, which are: rooms, objects, keys and doors."
      ]
    },
    {
      "cell_type": "markdown",
      "metadata": {
        "id": "HFl1ApuXq9IF"
      },
      "source": [
        "**Definition of an escape room:**\n",
        "\n",
        "The briefing room of an escape room in Tampere, Finland\n",
        "Escape rooms are inspired by escape room video games, live-action role-playing, point-and-click adventure games, puzzle hunts, interactive theater, and haunted houses. They are also referred to as \"room escapes\", \"escape games\", \"exit games\", or \"live escapes\".\n"
      ]
    },
    {
      "cell_type": "markdown",
      "metadata": {
        "id": "AA28Jt74hskU"
      },
      "source": [
        "---\n",
        "\n",
        "## TEAM NOTES ⭐\n",
        "### TO ADD:\n",
        "*   Quiz the player when door is unlocked (comes after the unlock_door function)\n",
        "*   Tell the player how much time he has left to escape and win this game (print and library of time)\n",
        "*   Add how much it took the player to finish the game (important in the game_state)\n",
        "*   Add Live timer and show player their countdown timer (extra)\n",
        "\n",
        "*   Add list of game_doors to compare with current_space doors to show availabe doors for the player to after that choose which door to try unlock the door using keys from inventory.\n",
        "*   horror sounds to every room, and KA-CHING for unlocking door, and different winning sound when outside\n",
        "\n",
        "---\n",
        "\n",
        "### ERROR HANDLING:\n",
        "*   Capital letters input error when comparing with our data \n",
        "*   Capitalize first letter when printing using .title()\n",
        "*   No input and enter error\n",
        "\n",
        "\n",
        "\n",
        "\n"
      ]
    },
    {
      "cell_type": "markdown",
      "metadata": {},
      "source": [
        "---\n",
        "## Clock | Countdown Live Timer"
      ]
    },
    {
      "cell_type": "code",
      "execution_count": null,
      "metadata": {},
      "outputs": [],
      "source": [
        "# define a function that starts the clock, countdown, and display\n",
        "''' def display_clock_countdown(t): '''\n",
        "\n",
        "# Starts the live clock and countdown display for t minutes.\n",
        "# Example: Start 5-minute countdown\n",
        "''' display_clock_countdown(5) '''"
      ]
    },
    {
      "cell_type": "code",
      "execution_count": 1,
      "metadata": {},
      "outputs": [],
      "source": [
        "import time\n",
        "import sys\n",
        "from datetime import datetime, timedelta\n",
        "\n",
        "def display_clock_countdown(minutes):\n",
        "    try:\n",
        "        while True:  # Repeat indefinitely (change True to play=true)\n",
        "            end_time = datetime.now() + timedelta(minutes=minutes)\n",
        "\n",
        "            while True:\n",
        "                # Current time\n",
        "                now = datetime.now()\n",
        "                current_time = now.strftime(\"%H:%M:%S\")\n",
        "\n",
        "                # Remaining time\n",
        "                remaining_time = end_time - now\n",
        "                if remaining_time.total_seconds() <= 0:\n",
        "                    print(f\"\\rClock: {current_time} | Countdown: 00:00:00 ⌛\", end=\"\")\n",
        "                    break\n",
        "\n",
        "                hours, remainder = divmod(int(remaining_time.total_seconds()), 3600)\n",
        "                mins, secs = divmod(remainder, 60)\n",
        "                countdown_str = f\"{hours:02}:{mins:02}:{secs:02}\"\n",
        "\n",
        "                # Print live clock and countdown on one line\n",
        "                print(f\"\\r🕰️ Clock: {current_time} | ⏳ Countdown: {countdown_str}\", end=\"\")\n",
        "                sys.stdout.flush()\n",
        "\n",
        "                time.sleep(1)\n",
        "\n",
        "            # Big \"Time's Up\" banner\n",
        "            print(\"\\n\" + \"*\"*50)\n",
        "            print(\"*****            TIME'S UP!            *****\")\n",
        "            print(\"*****      Restarting countdown...     *****\")\n",
        "            print(\"*\"*50 + \"\\n\")\n",
        "            time.sleep(1)  # Optional pause before restarting\n",
        "\n",
        "    except KeyboardInterrupt:\n",
        "        print(\"\\nCountdown stopped manually.\")"
      ]
    },
    {
      "cell_type": "code",
      "execution_count": 3,
      "metadata": {},
      "outputs": [
        {
          "name": "stdout",
          "output_type": "stream",
          "text": [
            "🕰️ Clock: 07:09:01 | ⏳ Countdown: 00:04:53\n",
            "Countdown stopped manually.\n"
          ]
        }
      ],
      "source": [
        "\n",
        "# call function: display_countdown(5 minutes)\n",
        "display_clock_countdown(5)"
      ]
    },
    {
      "cell_type": "markdown",
      "metadata": {
        "id": "IC-s24d_EyqV"
      },
      "source": [
        "---\n",
        "## GAME DATA (DICT & LIST)"
      ]
    },
    {
      "cell_type": "markdown",
      "metadata": {},
      "source": [
        "### DICT : GAME AREAS"
      ]
    },
    {
      "cell_type": "code",
      "execution_count": 97,
      "metadata": {
        "colab": {
          "base_uri": "https://localhost:8080/"
        },
        "id": "a4SkPrp7HjLr",
        "outputId": "ffee04ef-4612-40c9-edd8-62f5321903e6"
      },
      "outputs": [
        {
          "name": "stdout",
          "output_type": "stream",
          "text": [
            "GAME AREAS Dictionary:\n",
            "Dictionary Keys:\n",
            " dict_keys(['game room', 'bedroom 1', 'bedroom 2', 'living room', 'outside']) \n",
            "\n",
            "Dictionary:\n",
            "{   key   :   value     }\n",
            "game room : ['couch', 'piano', 'door A', 'key door A']\n",
            "bedroom 1 : ['queen bed', 'door A', 'door B', 'door C', 'key door B']\n",
            "bedroom 2 : ['double bed', 'door B', 'dresser', 'key door D', 'key door C']\n",
            "living room : ['dining table', 'door C', 'door D']\n",
            "outside : ['Freedom! You won! :)']\n"
          ]
        }
      ],
      "source": [
        "# Each key in this dictionary represents a room; each value is a list of objects, doors and keys\n",
        "\n",
        "# Dictionary : GAME AREAS\n",
        "game_areas = {\n",
        "    \"game room\" : ['couch', 'piano', 'door A', 'key door A'],\n",
        "    \"bedroom 1\": ['queen bed', 'door A', 'door B', 'door C', 'key door B'],\n",
        "    \"bedroom 2\": ['double bed', 'door B', 'dresser', 'key door D', 'key door C'],\n",
        "    \"living room\": [\"dining table\", 'door C', 'door D'],\n",
        "    \"outside\": [\"Freedom! You won! :)\"]\n",
        "}\n",
        "\n",
        "# List : dictionary Keys\n",
        "spaces = game_areas.keys()\n",
        "print(\"GAME AREAS Dictionary:\")\n",
        "print(\"Dictionary Keys:\\n\",spaces,\"\\n\")\n",
        "\n",
        "# Print dictionary organised\n",
        "print(\"Dictionary:\\n{   key   :   value     }\")\n",
        "for i in spaces:\n",
        "  print(i,\":\",game_areas[i])"
      ]
    },
    {
      "cell_type": "markdown",
      "metadata": {},
      "source": [
        "### DICT : GAME STATE"
      ]
    },
    {
      "cell_type": "code",
      "execution_count": 96,
      "metadata": {
        "colab": {
          "base_uri": "https://localhost:8080/"
        },
        "id": "SUvNCnzBN0sg",
        "outputId": "0b0672de-cfa8-4885-d8c6-df9ff06b5815"
      },
      "outputs": [
        {
          "name": "stdout",
          "output_type": "stream",
          "text": [
            "GAME STATE Dictionary:\n",
            "Dictionary Keys:\n",
            " dict_keys(['time', 'space path', 'item path', 'inventory']) \n",
            "\n",
            "Dictionary:\n",
            "{   key   :   value     }\n",
            "time : ['display_clock_countdown']\n",
            "space path : []\n",
            "item path : []\n",
            "inventory : []\n"
          ]
        }
      ],
      "source": [
        "# Keep track of the player : current space; current item to examine; and inventory of keys\n",
        "\n",
        "# Dictionary : GAME STATE\n",
        "game_state = {\n",
        "    'time': [\"display_clock_countdown\"] , #library time for live timer and countdown\n",
        "    'space path' : [], # player current space to navigate and make a space path\n",
        "    'item path' : [], # to select an item to examine for key; and make an item path\n",
        "    'inventory': [], # to store found keys\n",
        "    \n",
        "}\n",
        "\n",
        "# List : dictionary Keys\n",
        "states = game_state.keys()\n",
        "print(\"GAME STATE Dictionary:\")\n",
        "print(\"Dictionary Keys:\\n\",states,\"\\n\")\n",
        "\n",
        "# Print dictionary organised\n",
        "print(\"Dictionary:\\n{   key   :   value     }\")\n",
        "for i in states:\n",
        "  print(i,\":\",game_state[i])"
      ]
    },
    {
      "cell_type": "markdown",
      "metadata": {},
      "source": [
        "---\n",
        "### DICT : SOUNDS (EXTRA FEATURE)"
      ]
    },
    {
      "cell_type": "code",
      "execution_count": 95,
      "metadata": {
        "id": "I9Ni87F47qL4"
      },
      "outputs": [
        {
          "name": "stdout",
          "output_type": "stream",
          "text": [
            "GAME SOUNDS Dictionary:\n",
            "Dictionary Keys:\n",
            " dict_keys(['space sound', 'key found sound', 'unlock door sound']) \n",
            "\n",
            "Dictionary:\n",
            "{   key   :   value     }\n",
            "space sound : WOOD CRACKING\n",
            "key found sound : HURRAY\n",
            "unlock door sound : CLICK\n"
          ]
        }
      ],
      "source": [
        "\n",
        "# Use dict to create sounds in game\n",
        "# Dict : sounds\n",
        "game_sounds = {\n",
        "    'space sound': \"WOOD CRACKING\", # space sound for every space 'wind'\n",
        "    'key found sound': \"HURRAY\", # key found sound for finding key like 'hurray'\n",
        "    'unlock door sound' : \"CLICK\", # unlock door sound for unlocking door after solving quiz like 'click'\n",
        "          }\n",
        "\n",
        "print(\"GAME SOUNDS Dictionary:\")\n",
        "# List : dictionary Keys\n",
        "sounds = game_sounds.keys()\n",
        "print(\"Dictionary Keys:\\n\", sounds, \"\\n\")\n",
        "# print dict : sounds\n",
        "# Print dictionary organised\n",
        "print(\"Dictionary:\\n{   key   :   value     }\")\n",
        "for i in sounds:\n",
        "  print(i,\":\",game_sounds[i])"
      ]
    },
    {
      "cell_type": "markdown",
      "metadata": {},
      "source": [
        "---\n",
        "### PLAY SOUND IN GAME (EXTRA FEATURE)"
      ]
    },
    {
      "cell_type": "code",
      "execution_count": null,
      "metadata": {},
      "outputs": [
        {
          "data": {
            "text/html": [
              "\n",
              "                <audio  controls=\"controls\" >\n",
              "                    <source src=\"data:audio/mpeg;base64,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\" type=\"audio/mpeg\" />\n",
              "                    Your browser does not support the audio element.\n",
              "                </audio>\n",
              "              "
            ],
            "text/plain": [
              "<IPython.lib.display.Audio object>"
            ]
          },
          "metadata": {},
          "output_type": "display_data"
        }
      ],
      "source": [
        "# play sounds in game\n",
        "import requests\n",
        "from IPython.display import Audio\n",
        "\n",
        "# Converted Google Drive link\n",
        "url = 'https://drive.google.com/file/d/1jhDDigPt00xLUvex7Z9O5r1xmOzsYxkB/view?usp=sharing'\n",
        "\n",
        "# Fetch data and load as audio\n",
        "r = requests.get(url, allow_redirects=True)\n",
        "open('downloaded.mp3', 'wb').write(r.content)\n",
        "\n",
        "# Play the audio file\n",
        "Audio('downloaded.mp3')"
      ]
    },
    {
      "cell_type": "markdown",
      "metadata": {
        "id": "ZDZJw1bQEmZJ"
      },
      "source": [
        "---\n",
        "## GAME FUNCTIONS\n",
        "PLAYER ACTION takes player_input to then call another function from a list of actions  using utils.py file with those functions "
      ]
    },
    {
      "cell_type": "markdown",
      "metadata": {
        "id": "92uf9jaCiq0z"
      },
      "source": [
        "#### ACTION 0 : SHOW AVAILABLE ACTIONS + PLAYER INPUT\n",
        "```\n",
        "SABINA COMMENT: You can do `return action` instead of `break`. `return` automatically stops the function so because the while loop is INSIDE the function, then it will stop as well once the action is returned.\n",
        "\n",
        "```"
      ]
    },
    {
      "cell_type": "markdown",
      "metadata": {},
      "source": [
        "---\n",
        "### GAME INTRO:"
      ]
    },
    {
      "cell_type": "code",
      "execution_count": 78,
      "metadata": {},
      "outputs": [
        {
          "name": "stdout",
          "output_type": "stream",
          "text": [
            "Welcome to the Escape Room Game!\n",
            "\n",
            "************************************************************\n",
            "*****         WELCOME TO THE ESCAPE ROOM GAME!         *****\n",
            "*****               Made by POSH SPICE                 *****\n",
            "************************************************************\n",
            "\n"
          ]
        }
      ],
      "source": [
        "# initialize game by printing welcome message\n",
        "print(\"Welcome to the Escape Room Game!\")\n",
        "\n",
        "# Big \"Time's Up\" banner\n",
        "print(\"\\n\" + \"*\"*60)\n",
        "print(\"*****         WELCOME TO THE ESCAPE ROOM GAME!         *****\")\n",
        "print(\"*****               Made by POSH SPICE                 *****\")\n",
        "print(\"*\"*60 + \"\\n\")"
      ]
    },
    {
      "cell_type": "markdown",
      "metadata": {},
      "source": [
        "---\n",
        "### Libraries & packages:"
      ]
    },
    {
      "cell_type": "code",
      "execution_count": null,
      "metadata": {},
      "outputs": [],
      "source": [
        "import sys\n",
        "sys.path.append(\"modules\")  # add the folder to Python path\n",
        "import utils # functions in python file utils.py"
      ]
    },
    {
      "cell_type": "markdown",
      "metadata": {},
      "source": [
        "### ACTION 0 : SHOW AVAILABLE ACTIONS + PLAYER INPUT"
      ]
    },
    {
      "cell_type": "code",
      "execution_count": 110,
      "metadata": {},
      "outputs": [],
      "source": [
        "#ACTION 0) define function : player_action(player_input)\n",
        "# While Loop, if else, break, return : player_action function\n",
        "def player_action(player_input: str):\n",
        "    while player_input != 'quit' and player_input != 'restart': # While player_input is not 'quit' and 'restart'\n",
        "        print(\"\\nChoose an actions :\",actions) # Print the list of actions\n",
        "        action = input(\"PLAYER! Choose your action :\").lower() # Player inputs space of choice\n",
        "        if action in actions:\n",
        "            return action\n",
        "        elif action == 'quit': # Exit the function to restart the game\n",
        "            print(\"Quitting the game. Goodbye!\")\n",
        "            break\n",
        "        elif action == 'restart': # Restart the game\n",
        "            print(\"Game restarting!\")\n",
        "            player_action('play')\n",
        "        else:\n",
        "            print(\"Value Error, choose again!\")\n",
        "    return action"
      ]
    },
    {
      "cell_type": "code",
      "execution_count": 111,
      "metadata": {},
      "outputs": [
        {
          "name": "stdout",
          "output_type": "stream",
          "text": [
            "\n",
            "Choose an actions : ['explore', 'examine', 'unlock_door', 'navigate', 'restart', 'quit']\n",
            "Player input the  action : restart\n"
          ]
        }
      ],
      "source": [
        "# Call player_action function with player_input\n",
        "action = player_action(player_input)\n",
        "print(f\"Player input the  action : {action}\")"
      ]
    },
    {
      "cell_type": "code",
      "execution_count": null,
      "metadata": {},
      "outputs": [
        {
          "ename": "NameError",
          "evalue": "name 'game_state' is not defined",
          "output_type": "error",
          "traceback": [
            "\u001b[1;31m---------------------------------------------------------------------------\u001b[0m",
            "\u001b[1;31mNameError\u001b[0m                                 Traceback (most recent call last)",
            "Cell \u001b[1;32mIn[80], line 22\u001b[0m\n\u001b[0;32m     19\u001b[0m     \u001b[38;5;28;01mreturn\u001b[39;00m player_action(\u001b[38;5;124m'\u001b[39m\u001b[38;5;124mplay\u001b[39m\u001b[38;5;124m'\u001b[39m)\n\u001b[0;32m     21\u001b[0m \u001b[38;5;66;03m# call function: quiz()\u001b[39;00m\n\u001b[1;32m---> 22\u001b[0m quiz(\u001b[38;5;124m'\u001b[39m\u001b[38;5;124mdoor A\u001b[39m\u001b[38;5;124m'\u001b[39m)\n",
            "Cell \u001b[1;32mIn[80], line 5\u001b[0m, in \u001b[0;36mquiz\u001b[1;34m(current_door)\u001b[0m\n\u001b[0;32m      3\u001b[0m \u001b[38;5;28;01mdef\u001b[39;00m\u001b[38;5;250m \u001b[39m\u001b[38;5;21mquiz\u001b[39m(current_door):\n\u001b[0;32m      4\u001b[0m     \u001b[38;5;66;03m# Quiz function to unlock doors\u001b[39;00m\n\u001b[1;32m----> 5\u001b[0m     \u001b[38;5;28;01mif\u001b[39;00m (game_state\u001b[38;5;241m.\u001b[39minventory \u001b[38;5;129;01min\u001b[39;00m current_door):\n\u001b[0;32m      6\u001b[0m         \u001b[38;5;28mprint\u001b[39m(\u001b[38;5;124m\"\u001b[39m\u001b[38;5;124mThis door is already unlocked ~ you can proceed!\u001b[39m\u001b[38;5;124m\"\u001b[39m)\n\u001b[0;32m      7\u001b[0m         \u001b[38;5;28;01mreturn\u001b[39;00m player_action(\u001b[38;5;124m'\u001b[39m\u001b[38;5;124mplay\u001b[39m\u001b[38;5;124m'\u001b[39m)\n",
            "\u001b[1;31mNameError\u001b[0m: name 'game_state' is not defined"
          ]
        }
      ],
      "source": [
        "current_space = 'game room'\n",
        "\n",
        "def quiz(current_door):\n",
        "    # Quiz function to unlock doors\n",
        "    if (game_state.inventory in current_door):\n",
        "        print(\"This door is already unlocked ~ you can proceed!\")\n",
        "        return player_action('play')\n",
        "    else:\n",
        "        print(\"Answer the following question to unlock the door:\")\n",
        "        print(\"What is 7 + 6?\")\n",
        "        answer = int(input(\"Your answer: \"))\n",
        "        if answer == 13:\n",
        "            print(\"Correct! The door is now unlocked...\")\n",
        "            game_state.inventory.append(current_door)\n",
        "            return True\n",
        "        else:\n",
        "            print(\"Incorrect answer. Try again!\")\n",
        "            return quiz(current_door)\n",
        "    return player_action('play')\n",
        "\n",
        "# call function: quiz()\n",
        "quiz('door A')"
      ]
    },
    {
      "cell_type": "code",
      "execution_count": 22,
      "metadata": {},
      "outputs": [
        {
          "ename": "IndentationError",
          "evalue": "unexpected indent (1295554915.py, line 3)",
          "output_type": "error",
          "traceback": [
            "\u001b[1;36m  Cell \u001b[1;32mIn[22], line 3\u001b[1;36m\u001b[0m\n\u001b[1;33m    def player_input():\u001b[0m\n\u001b[1;37m    ^\u001b[0m\n\u001b[1;31mIndentationError\u001b[0m\u001b[1;31m:\u001b[0m unexpected indent\n"
          ]
        }
      ],
      "source": [
        "import utils\n",
        "  # define Function : player_input()\n",
        "  def player_input():\n",
        "    player_input = input(\"PLAYER! Choose your action :\")  # player inputs action from list actions\n",
        "    # While Loops until we are outside condition\n",
        "    while True:\n",
        "      if player_input in actions:\n",
        "        print(\"Player chose to : \",player_input)\n",
        "        action = player_input\n",
        "        break\n",
        "      else:\n",
        "        print(\"Typing Error, choose your action again!\")\n",
        "    return (getattr(utils, action)())\n",
        "\n",
        "  # Call Function : player_action()\n",
        "  player_input()"
      ]
    },
    {
      "cell_type": "code",
      "execution_count": 23,
      "metadata": {},
      "outputs": [
        {
          "ename": "ModuleNotFoundError",
          "evalue": "No module named 'utils'",
          "output_type": "error",
          "traceback": [
            "\u001b[1;31m---------------------------------------------------------------------------\u001b[0m",
            "\u001b[1;31mModuleNotFoundError\u001b[0m                       Traceback (most recent call last)",
            "Cell \u001b[1;32mIn[23], line 1\u001b[0m\n\u001b[1;32m----> 1\u001b[0m \u001b[38;5;28;01mimport\u001b[39;00m\u001b[38;5;250m \u001b[39m\u001b[38;5;21;01mutils\u001b[39;00m\n\u001b[0;32m      3\u001b[0m \u001b[38;5;66;03m# Define actions list\u001b[39;00m\n\u001b[0;32m      4\u001b[0m actions \u001b[38;5;241m=\u001b[39m [\u001b[38;5;124m\"\u001b[39m\u001b[38;5;124mrun\u001b[39m\u001b[38;5;124m\"\u001b[39m, \u001b[38;5;124m\"\u001b[39m\u001b[38;5;124mattack\u001b[39m\u001b[38;5;124m\"\u001b[39m, \u001b[38;5;124m\"\u001b[39m\u001b[38;5;124mdefend\u001b[39m\u001b[38;5;124m\"\u001b[39m]  \u001b[38;5;66;03m# Example actions, replace with your own\u001b[39;00m\n",
            "\u001b[1;31mModuleNotFoundError\u001b[0m: No module named 'utils'"
          ]
        }
      ],
      "source": [
        "import utils\n",
        "\n",
        "# Define actions list\n",
        "actions = [\"run\", \"attack\", \"defend\"]  # Example actions, replace with your own\n",
        "\n",
        "# Define Function: player_input()\n",
        "def player_input():\n",
        "    while True:\n",
        "        player_action = input(\"PLAYER! Choose your action: \")  # ask for input inside loop\n",
        "        if player_action in actions:\n",
        "            print(\"Player chose to:\", player_action)\n",
        "            return getattr(utils, player_action)()  # call the function from utils\n",
        "        else:\n",
        "            print(\"Typing Error, choose your action again!\")\n",
        "\n",
        "# Call Function: player_input()\n",
        "player_input()\n"
      ]
    },
    {
      "cell_type": "code",
      "execution_count": 10,
      "metadata": {},
      "outputs": [
        {
          "name": "stdout",
          "output_type": "stream",
          "text": [
            "Player's actions in the game : ['explore', 'examine', 'unlock door', 'navigate', 'restart', 'quit']\n",
            "\n",
            "Items in the game : ['couch', 'piano', 'queen bed', 'double bed', 'dresser', 'dining table']\n",
            "\n",
            "Doors in the game : ['door A', 'door B', 'door C', 'door D']\n",
            "\n",
            "Keys in the game : ['key door A', 'key door B', 'key door C', 'key door D']\n"
          ]
        }
      ],
      "source": [
        "# LIST : actions available to a player\n",
        "actions = ['explore', 'examine', 'unlock door', 'navigate', 'restart', 'quit']\n",
        "print(\"Player's actions in the game :\",actions)\n",
        "\n",
        "# LIST : items\n",
        "items = ['couch', 'piano', 'queen bed', 'double bed', 'dresser', \"dining table\"]\n",
        "print(\"\\nItems in the game :\",items)\n",
        "\n",
        "# LIST : doors\n",
        "doors = ['door A', 'door B', 'door C', 'door D']\n",
        "print(\"\\nDoors in the game :\",doors)\n",
        "\n",
        "# LIST : keys\n",
        "keys = ['key door A', 'key door B', 'key door C', 'key door D']\n",
        "print(\"\\nKeys in the game :\",keys)"
      ]
    },
    {
      "cell_type": "code",
      "execution_count": null,
      "metadata": {},
      "outputs": [
        {
          "name": "stdout",
          "output_type": "stream",
          "text": [
            "Here is a list of actions : ['explore', 'examine', 'unlock_door', 'navigate', 'restart', 'quit']\n"
          ]
        },
        {
          "ename": "NameError",
          "evalue": "name 'player_action' is not defined",
          "output_type": "error",
          "traceback": [
            "\u001b[1;31m---------------------------------------------------------------------------\u001b[0m",
            "\u001b[1;31mNameError\u001b[0m                                 Traceback (most recent call last)",
            "Cell \u001b[1;32mIn[55], line 6\u001b[0m\n\u001b[0;32m      3\u001b[0m \u001b[38;5;28mprint\u001b[39m(\u001b[38;5;124m\"\u001b[39m\u001b[38;5;124mHere is a list of actions :\u001b[39m\u001b[38;5;124m\"\u001b[39m,actions) \u001b[38;5;66;03m# Print the list of actions\u001b[39;00m\n\u001b[0;32m      5\u001b[0m player_input\u001b[38;5;241m=\u001b[39m \u001b[38;5;28minput\u001b[39m(\u001b[38;5;124m\"\u001b[39m\u001b[38;5;124mPLAYER! Type your next move and press <Enter>: \u001b[39m\u001b[38;5;124m\"\u001b[39m)\u001b[38;5;241m.\u001b[39mlower() \n\u001b[1;32m----> 6\u001b[0m player_action(player_input)\n\u001b[0;32m      7\u001b[0m \u001b[38;5;28mprint\u001b[39m(\u001b[38;5;124mf\u001b[39m\u001b[38;5;124m\"\u001b[39m\u001b[38;5;130;01m\\n\u001b[39;00m\u001b[38;5;124mPlayer input your action : \u001b[39m\u001b[38;5;132;01m{\u001b[39;00maction\u001b[38;5;132;01m}\u001b[39;00m\u001b[38;5;124m\"\u001b[39m)\n\u001b[0;32m      8\u001b[0m function_return \u001b[38;5;241m=\u001b[39m \u001b[38;5;28mgetattr\u001b[39m(utils, action)()  \u001b[38;5;66;03m# Call the function with the same name as the action\u001b[39;00m\n",
            "\u001b[1;31mNameError\u001b[0m: name 'player_action' is not defined"
          ]
        }
      ],
      "source": [
        "# use getattr to call explore function from utils  \n",
        "player_input = '' #initialize player_input variable\n",
        "print(\"Here is a list of actions :\",actions) # Print the list of actions\n",
        "\n",
        "player_input= input(\"PLAYER! Type your next move and press <Enter>: \").lower() \n",
        "player_action(player_input)\n",
        "print(f\"\\nPlayer input your action : {getattr(utils, action)}\")\n",
        "\n",
        "function_return = getattr(utils, action)()  # Call the function with the same name as the action\n",
        "print(\"Return:\", function_return)"
      ]
    },
    {
      "cell_type": "code",
      "execution_count": null,
      "metadata": {},
      "outputs": [
        {
          "name": "stdout",
          "output_type": "stream",
          "text": [
            "\n",
            "Player, choose your action : explore\n",
            "Exploring the area...\n",
            "Return: ['couch', 'piano', 'queen bed', 'double bed', 'dresser', 'dining table']\n"
          ]
        }
      ],
      "source": [
        "import utils\n",
        "\n",
        "# define Function : explore(current_space)\n",
        "\n",
        "current_space = 'game room'\n",
        "# Function: explore(current_space)\n",
        "def explore(current_space):\n",
        "    print(f\"You are exploring {current_space}. You see these items:\")\n",
        "    for item in items:\n",
        "        print(\"-\", item)\n",
        "    return items\n",
        "\n",
        "action = 'explore'\n",
        "# use getattr to call explore function from utils  \n",
        "print(f\"\\nPlayer input your action : {action}\")\n",
        "function_return = getattr(utils, action)()  # Call the function with the same name as the action\n",
        "print(\"Return:\", function_return)"
      ]
    },
    {
      "cell_type": "code",
      "execution_count": 46,
      "metadata": {},
      "outputs": [
        {
          "name": "stdout",
          "output_type": "stream",
          "text": [
            "\n",
            "Calling action: explore\n",
            "Exploring the area...\n",
            "Return: ['couch', 'piano', 'queen bed', 'double bed', 'dresser', 'dining table']\n",
            "\n",
            "Calling action: examine\n",
            "Examining items carefully...\n",
            "Return: True\n",
            "\n",
            "Calling action: unlock_door\n",
            "Trying to unlock the door...\n",
            "Return: True\n",
            "\n",
            "Calling action: navigate\n",
            "Navigating through the maze...\n",
            "Return: You moved forward\n",
            "\n",
            "Calling action: restart\n",
            "Restarting the game...\n",
            "Return: None\n",
            "\n",
            "Calling action: quit\n",
            "Quitting the game...\n",
            "Return: None\n"
          ]
        }
      ],
      "source": [
        "import utils\n",
        "\n",
        "# List of actions\n",
        "actions = ['explore', 'examine', 'unlock_door', 'navigate', 'restart', 'quit']\n",
        "\n",
        "# Example: dynamically call function based on the list\n",
        "for action in actions:\n",
        "    print(f\"\\nCalling action: {action}\")\n",
        "    function_return = getattr(utils, action)()  # Call the function with the same name as the action\n",
        "    print(\"Return:\", function_return)"
      ]
    },
    {
      "cell_type": "markdown",
      "metadata": {
        "id": "fT9WMHALilib"
      },
      "source": [
        "\n",
        "#### ACTION 1 : EXPLORE(current_space) returns items which is list of furnitures in current_space"
      ]
    },
    {
      "cell_type": "code",
      "execution_count": 7,
      "metadata": {},
      "outputs": [
        {
          "ename": "ModuleNotFoundError",
          "evalue": "No module named 'utils'",
          "output_type": "error",
          "traceback": [
            "\u001b[1;31m---------------------------------------------------------------------------\u001b[0m",
            "\u001b[1;31mModuleNotFoundError\u001b[0m                       Traceback (most recent call last)",
            "Cell \u001b[1;32mIn[7], line 1\u001b[0m\n\u001b[1;32m----> 1\u001b[0m \u001b[38;5;28;01mimport\u001b[39;00m\u001b[38;5;250m \u001b[39m\u001b[38;5;21;01mutils\u001b[39;00m\n\u001b[0;32m      3\u001b[0m \u001b[38;5;66;03m# initialize current space\u001b[39;00m\n\u001b[0;32m      4\u001b[0m current_space \u001b[38;5;241m=\u001b[39m \u001b[38;5;124m'\u001b[39m\u001b[38;5;124mgame room\u001b[39m\u001b[38;5;124m'\u001b[39m\n",
            "\u001b[1;31mModuleNotFoundError\u001b[0m: No module named 'utils'"
          ]
        }
      ],
      "source": [
        "import utils\n",
        "\n",
        "# initialize current space\n",
        "current_space = 'game room'\n",
        "\n",
        "# update current space from user input \n",
        "current_space = input(\"Which space you are in?\")\n",
        "\n",
        "# define Function : explore(current_space)\n",
        "def explore(current_space):\n",
        "    items = []\n",
        "    if current_space == 'game room':\n",
        "        items = ['couch', 'piano', 'queen bed', 'double bed', 'dresser', \"dining table\"]\n",
        "    elif current_space == 'kitchen':\n",
        "        items = ['fridge', 'oven', 'sink', 'table', 'chairs']\n",
        "    elif current_space == 'bedroom':\n",
        "        items = ['bed', 'wardrobe', 'nightstand', 'lamp']\n",
        "    return items # return items in the current space\n",
        "\n",
        "explore(\n",
        "    utils.explore()\n",
        ")"
      ]
    },
    {
      "cell_type": "markdown",
      "metadata": {
        "id": "U8FK_iU6ibPb"
      },
      "source": [
        "#### ACTION 3 : UNLOCK DOOR\n",
        "```\n",
        "\n",
        "  # Define Function : def unlock_door():\n",
        "  def unlock_door():\n",
        "    door = input(\"Type the door you want to try unlock : \")\n",
        "  return door\n",
        "\n",
        "  # Call Function : unlock_door()\n",
        "  unlock_door()\n",
        "\n",
        "---------------------------------------------------------------\n",
        "#### Compare two strings using if 'door A' in inventory list of keys\n",
        "#### since \"door A\" is part of the string \"key door A\" we get true\n",
        "#### or we can approach it in a different way\n",
        "```"
      ]
    },
    {
      "cell_type": "code",
      "execution_count": null,
      "metadata": {
        "colab": {
          "base_uri": "https://localhost:8080/",
          "height": 54
        },
        "id": "pw5_s4j24fda",
        "outputId": "80ee96b0-6c65-4221-92f5-7c28b5a64d64"
      },
      "outputs": [],
      "source": [
        "#\n",
        "\n",
        "# Define Function : def unlock_door():\n",
        "def unlock_door():\n",
        "  door = input(\"Type the door you want to try unlock : \")\n",
        "  return door\n",
        "\n",
        "# Call Function : unlock_door()\n",
        "unlock_door()"
      ]
    },
    {
      "cell_type": "markdown",
      "metadata": {
        "id": "8d-gk11hiYAE"
      },
      "source": [
        "\n",
        "#### ACTION 4 : NAVIGATE\n",
        "```\n",
        "\n",
        "  # Define Function : def navigate():\n",
        "  def navigate():\n",
        "    answer = low(input(\"Test key? Answer yes or no\"))   \n",
        "    # yes = True | no = False\n",
        "    if answer=yes\n",
        "    current_space =\n",
        "  return current_space\n",
        "\n",
        "  # Call Function : navigate()\n",
        "  navigate()\n",
        "\n",
        "---------------------------------------------------------------\n",
        "####\n",
        "####\n",
        "####\n",
        "```"
      ]
    },
    {
      "cell_type": "markdown",
      "metadata": {
        "id": "h0jtqrpGiDCd"
      },
      "source": [
        "### PLAYER ACTIONS"
      ]
    },
    {
      "cell_type": "markdown",
      "metadata": {
        "id": "mkAFUYxyjRIb"
      },
      "source": [
        "We define actions of the player"
      ]
    },
    {
      "cell_type": "code",
      "execution_count": null,
      "metadata": {
        "colab": {
          "base_uri": "https://localhost:8080/"
        },
        "id": "5NrAlNM0Jghg",
        "outputId": "815f18d0-3143-46a6-88d7-fedaa874ce00"
      },
      "outputs": [],
      "source": []
    },
    {
      "cell_type": "code",
      "execution_count": null,
      "metadata": {
        "id": "1JKg6dc4zy7_"
      },
      "outputs": [],
      "source": [
        "examine = ['couch', 'piano', 'dinning table', ...]\n",
        "#compare examine with current_space\n",
        "\n",
        "\n",
        "#"
      ]
    },
    {
      "cell_type": "markdown",
      "metadata": {
        "id": "Z8axtcgYjax6"
      },
      "source": [
        "**STEPS:**\n",
        "1. We show the actions for the Player\n",
        "2. We prompt the player to choose with error handling in mind\n",
        "3. We print the chosen action\n"
      ]
    },
    {
      "cell_type": "code",
      "execution_count": null,
      "metadata": {
        "colab": {
          "base_uri": "https://localhost:8080/"
        },
        "id": "76a1cI9H8dmk",
        "outputId": "8b66019d-801b-4f50-a50d-0c18908e4134"
      },
      "outputs": [],
      "source": [
        "# List: Actions available to the player\n",
        "actions = ['explore', 'examine', 'unlock door', 'navigate', 'quit', 'restart'] # definition of list of actions\n",
        "\n",
        "# Print the list\n",
        "print(\"Here is a list of actions :\",actions)\n",
        "player_input = 'play'\n",
        "\n",
        "# While Loop, if else, break : action_choice\n",
        "while player_input != 'quit': # While Loop\n",
        "  action_choice = input(\"PLAYER! Choose your action :\").lower() # Player inputs space of choice\n",
        "\n",
        "  if action_choice in actions:\n",
        "    print(\"Player chose to :\",action_choice)\n",
        "    break\n",
        "  else:\n",
        "    print(\"Typing Error, choose again!\")\n",
        "    # SABINA COMMENT: This would technically be a ValueError, not TypingError. Typing error is when you input a float instead of a string\n",
        "    # but Value error is when you put \"get me out of the game\" instead of \"quit\"\n"
      ]
    },
    {
      "cell_type": "code",
      "execution_count": null,
      "metadata": {
        "colab": {
          "base_uri": "https://localhost:8080/",
          "height": 106
        },
        "id": "Ul-AiQei3e06",
        "outputId": "c925cecc-4192-4b1d-da09-6a634f9c79c3"
      },
      "outputs": [],
      "source": [
        "# Function unlock door\n",
        "door = 'door A'\n",
        "door = 'door B'\n",
        "def navigate(door):\n",
        "  if door in 'key door A' # SABINA COMMENT: This value is hard-coded, so this function\n",
        "                          # will only work for opening door A and it will cause you issues down the line...\n",
        "    print('unlocked! you enter a new space.')\n",
        "  else:\n",
        "    print('door locked! you need a key.')\n",
        "    return door\n",
        "\n",
        "\n"
      ]
    },
    {
      "cell_type": "code",
      "execution_count": null,
      "metadata": {
        "colab": {
          "base_uri": "https://localhost:8080/",
          "height": 256
        },
        "id": "WnuPY2XVpyFw",
        "outputId": "02199d39-f3c4-40d3-9d54-fcd3bfdd9d88"
      },
      "outputs": [],
      "source": [
        "# ACTION 0 : Define Function : PRINT AVAILABLE CHOICES\n",
        "def player_choice():\n",
        "  choice = input(\"Choose what action you want to do:\")\n",
        "  return choice\n",
        "player_choice() # Call function\n",
        "\n",
        "# ACTION 1 : EXPLORE SPACE\n",
        "# Define Function :\n",
        "def explore_space():\n",
        "  space = input(\"Which item do you want to examine?\")\n",
        "  return\n",
        "\n",
        "# ACTION 2 : EXAMINE ITEM\n",
        "# Define Function :\n",
        "def examine_item():\n",
        "  item = input(\"Which item do you want to examine? \")\n",
        "  return item\n",
        "\n",
        "# SABINA CLARIFICATION: What's happening with the examine_item? Will you be adding more things in this function?\n",
        "\n",
        "\n",
        "# Use the return to compare\n",
        "if examine_item() in actions[examine]:\n",
        "  print(\"Player examines the :\", examine_item())\n",
        "\n",
        "# ACTION 3 : UNLOCK DOOR\n",
        "# Define Function :\n",
        "def unlock_door():\n",
        "  if 'door A' in 'key door A':\n",
        "    door='door A'\n",
        "  return door\n",
        "\n",
        "# ACTION 4 : ENTER SPACE\n",
        "# Define Function :\n",
        "def enter_space():\n",
        "  return current_space"
      ]
    },
    {
      "cell_type": "markdown",
      "metadata": {
        "id": "hV0jEIloie6N"
      },
      "source": [
        "#### ACTION 2 : EXAMINE ITEM\n",
        "```\n",
        "\n",
        "  # Define Function : def examine_item(space):\n",
        "  def examine_item(space):\n",
        "    \n",
        "    item = input(\"Type the item you want to examine : \")\n",
        "  return item\n",
        "\n",
        "  # Call Function : examine_item()\n",
        "  examine_item()\n",
        "\n",
        "# Call Function : examine_item(current_item)\n",
        "  examine_item()\n",
        "  \n",
        "---------------------------------------------------------------\n",
        "#### Use the return to compare\n",
        "#### if examine_item() in actions[examine]:\n",
        "#### print(\"Player examines the :\", examine_item())\n",
        "```"
      ]
    },
    {
      "cell_type": "code",
      "execution_count": null,
      "metadata": {
        "id": "0YHxqDwbnBUv"
      },
      "outputs": [],
      "source": [
        "# ACTION 2 : EXAMINE ITEM\n",
        "# Define Function : examine_item\n",
        "def examine_item(item):\n",
        "  item=int(input(\"Choose the item to examine: \"))\n",
        "  return item\n"
      ]
    },
    {
      "cell_type": "markdown",
      "metadata": {
        "id": "O9pz8-XEaBOd"
      },
      "source": [
        "## HOW TO DO"
      ]
    },
    {
      "cell_type": "code",
      "execution_count": null,
      "metadata": {
        "colab": {
          "base_uri": "https://localhost:8080/"
        },
        "id": "i6kVhqhGccvu",
        "outputId": "12a554e1-6f15-4829-a1e7-f981ea7d4346"
      },
      "outputs": [],
      "source": [
        "# HOW TO : Access keys of the dictionary using .keys()\n",
        "game_keys = game_areas.keys()\n",
        "print(game_keys)"
      ]
    },
    {
      "cell_type": "code",
      "execution_count": null,
      "metadata": {
        "colab": {
          "base_uri": "https://localhost:8080/"
        },
        "id": "WZgJIzpFwoeK",
        "outputId": "3c8f30f1-cac6-4afe-c219-51b436b8c8cd"
      },
      "outputs": [],
      "source": [
        "# HOW TO : count (Number of elements) in a (List)\n",
        "# Example\n",
        "my_list = [\"apple\", \"banana\", \"cherry\"]\n",
        "\n",
        "# Using len() to get the number of elements\n",
        "number_of_elements = len(my_list)\n",
        "\n",
        "# Now, number_of_elements holds the number of elements in the list\n",
        "print(\"The number of elements in the list is:\", number_of_elements)\n",
        "# SABINA COMMENT: no_of_elements is a bit shorter and still understandable"
      ]
    },
    {
      "cell_type": "code",
      "execution_count": null,
      "metadata": {
        "colab": {
          "base_uri": "https://localhost:8080/"
        },
        "id": "70aWN53AL55-",
        "outputId": "c0f96b9c-fd1b-4b83-ad33-8e5e32bb29e3"
      },
      "outputs": [],
      "source": [
        "# HOW TO : access an (element) of a (list)\n",
        "print(\"\\nAccessing an element in a List of Actions:\")\n",
        "number_actions = len(actions)\n",
        "for i in range(number_actions):\n",
        "  print(\"-\", actions[i])\n",
        "\n",
        "# Automated Access"
      ]
    },
    {
      "cell_type": "code",
      "execution_count": null,
      "metadata": {
        "colab": {
          "base_uri": "https://localhost:8080/"
        },
        "id": "lxzQsOzEiVT6",
        "outputId": "3ac5d41c-c76b-4f82-8892-6cd4bb077918"
      },
      "outputs": [],
      "source": [
        "# HOW TO : access a (value) in a (dictionary)\n",
        "print(\"\\nAccessing a value in a Dictionary value:\")\n",
        "print(game_areas[\"Living Room\"])\n",
        "\n",
        "\n",
        "# HOW TO : access an (element) of a list (value) in a (dictonary)\n",
        "# Example How to access 'piano' in this dictionary\n",
        "print(\"\\nAccessing an element of a list value in a dictionary:\")\n",
        "print(game_areas[\"Living Room\"][2])"
      ]
    },
    {
      "cell_type": "code",
      "execution_count": null,
      "metadata": {
        "id": "LmWn4pvtpWPu"
      },
      "outputs": [],
      "source": [
        "# HOW TO : define a Function :\n",
        "def examine_item():\n",
        "  a=int(input(\"Enter number a: \"))\n",
        "  b=int(input(\"Enter number b: \"))\n",
        "  return a+b"
      ]
    },
    {
      "cell_type": "code",
      "execution_count": null,
      "metadata": {
        "colab": {
          "base_uri": "https://localhost:8080/"
        },
        "id": "N1dbpllqkOFb",
        "outputId": "f55d1e1c-2e20-405f-f131-45906f8786d2"
      },
      "outputs": [],
      "source": [
        "# HOW TO : How to define a Function - METHOD 1\n",
        "# Define Function : sums numbers does not take immediate input:\n",
        "def sum_numbers():\n",
        "  a=int(input(\"Enter number a: \"))\n",
        "  b=int(input(\"Enter number b: \"))\n",
        "  return a+b\n",
        "\n",
        "# Call Function : sum_numbers()\n",
        "sum_numbers()"
      ]
    },
    {
      "cell_type": "code",
      "execution_count": null,
      "metadata": {
        "colab": {
          "base_uri": "https://localhost:8080/"
        },
        "id": "8YfPImWVn0NO",
        "outputId": "d2b42312-321b-45bb-da43-fc30f223206f"
      },
      "outputs": [],
      "source": [
        "# HOW TO : How to define a Function - METHOD 2\n",
        "# Define Function : sums numbers does not take immediate input :\n",
        "def sum_numbers(a,b):\n",
        "  return a+b\n",
        "\n",
        "# Manual input for a Function variables\n",
        "a=int(input(\"Enter number a: \"))\n",
        "b=int(input(\"Enter number b: \"))\n",
        "\n",
        "# Call Function : sum_numbers(a,b)\n",
        "sum_numbers(a,b) # using a,b variables from the input outside of function definition"
      ]
    },
    {
      "cell_type": "markdown",
      "metadata": {
        "id": "fbr1D6bxhNBl"
      },
      "source": [
        "## CODE"
      ]
    },
    {
      "cell_type": "code",
      "execution_count": null,
      "metadata": {
        "colab": {
          "base_uri": "https://localhost:8080/",
          "height": 371
        },
        "id": "9rw4cYYRhDqQ",
        "outputId": "4b87e397-ae05-4449-9946-f73236bdf483"
      },
      "outputs": [],
      "source": [
        "# CODE : Automate access of an (element) of a (value) in a (dictonary)\n",
        "search = input(\"Enter what element you're searching : \")\n",
        "for i in spaces:\n",
        "  for y in len(spaces):\n",
        "    print(game_areas.space[i][y])\n",
        "# SABINA QUESTION : We are curious to how to automate access to an element of a value that is a list in a dictionary\n",
        "# for i in range(len(list)): -> this iterates over the same number as the elements in a list"
      ]
    },
    {
      "cell_type": "code",
      "execution_count": null,
      "metadata": {
        "id": "90nG7r_ykjLy"
      },
      "outputs": [],
      "source": [
        "# CODE :\n",
        "# Update current space\n",
        "current_space = game_areas.keys()\n",
        "\n",
        "# Note: You might want to iterate through the keys or access a specific key depending on your game logic.\n",
        "# For example, to access the first key:\n",
        "# first_room = list(current_space)[0]\n",
        "# print(f\"The first room is: {first_room}\")"
      ]
    },
    {
      "cell_type": "code",
      "execution_count": null,
      "metadata": {
        "colab": {
          "base_uri": "https://localhost:8080/"
        },
        "id": "L4d9dbiDXpNW",
        "outputId": "1ba2bce1-ca4d-459b-b8b5-bd5e23e4f427"
      },
      "outputs": [],
      "source": [
        "# CODE :\n",
        "# Current space is a value\n",
        "# It will get updated\n",
        "# 1st Space\n",
        "current_space = \"Game Room\"\n",
        "print(\"1st space is :\", current_space)\n",
        "\n",
        "# 2nd Space\n",
        "current_space = \"Bedroom 1\"\n",
        "print(\"2nd space is :\", current_space)\n",
        "\n",
        "# 3rd Space\n",
        "current_space = \"Bedroom 2\"\n",
        "print(\"3rd space is :\", current_space)\n"
      ]
    },
    {
      "cell_type": "code",
      "execution_count": null,
      "metadata": {
        "colab": {
          "base_uri": "https://localhost:8080/"
        },
        "id": "nqAbAXK4YT71",
        "outputId": "0839b25f-0309-4ff8-d7ef-36c0fd8fd837"
      },
      "outputs": [],
      "source": [
        "# CODE :\n",
        "# List : current_space\n",
        "current_space = [\"Game Room\"]\n",
        "# 1st Space\n",
        "print(\"1st space is :\", current_space[0])\n",
        "\n",
        "space_path = [\"Game Room\", \"Bedroom 1\", \"Bedroom 2\", \"Bedroom 1\", \"Living Room\", \"Outside\"]"
      ]
    },
    {
      "cell_type": "code",
      "execution_count": null,
      "metadata": {
        "colab": {
          "base_uri": "https://localhost:8080/"
        },
        "id": "FH4LJXOqQcGz",
        "outputId": "baa6e2a8-aa5b-4243-9fd5-647538f3170c"
      },
      "outputs": [],
      "source": [
        "# CODE :\n",
        "# Mapping the best shortest player's space path\n",
        "space_path = [\"Game Room\", \"Bedroom 1\", \"Bedroom 2\", \"Bedroom 1\", \"Living Room\", \"Outside\"]\n",
        "\n",
        "# Print shortest space path map\n",
        "print(space_path)"
      ]
    },
    {
      "cell_type": "code",
      "execution_count": null,
      "metadata": {
        "colab": {
          "base_uri": "https://localhost:8080/"
        },
        "id": "XOzSvbxVPxsU",
        "outputId": "e9a5f03b-27ff-4037-d88e-a4dfa7c3f97a"
      },
      "outputs": [],
      "source": [
        "# CODE :\n",
        "# List : paths\n",
        "space_paths = [\"Game Room\"]\n",
        "\n",
        "# Print List space_paths\n",
        "print(space_paths)"
      ]
    },
    {
      "cell_type": "code",
      "execution_count": null,
      "metadata": {
        "id": "f-y485WQWfMo"
      },
      "outputs": [],
      "source": [
        "# CODE :\n",
        "# Updating List space_paths by adding current_space\n",
        "space_paths.add(current_space)"
      ]
    },
    {
      "cell_type": "code",
      "execution_count": null,
      "metadata": {
        "colab": {
          "base_uri": "https://localhost:8080/"
        },
        "id": "Y7ioFvmQPpZs",
        "outputId": "d9462ac4-fc2f-4d04-ae05-6de92e8d09e6"
      },
      "outputs": [],
      "source": [
        "# CODE :\n",
        "#Print values of each list seperately\n",
        "for i in spaces:\n",
        "  print(game_areas[i])"
      ]
    },
    {
      "cell_type": "code",
      "execution_count": null,
      "metadata": {
        "colab": {
          "base_uri": "https://localhost:8080/"
        },
        "id": "cq5YcBO4K1-w",
        "outputId": "5e2c3fbf-9671-4b5a-f9e6-a28965c3e842"
      },
      "outputs": [],
      "source": [
        "# CODE :\n",
        "# List: Furniture list for all the items to be examined in order to find the keys\n",
        "examine = ['couch', 'piano', 'queen bed', 'double bed', 'dresser', 'dining table']\n",
        "print(\"Furnitures to examine:\",examine)\n",
        "\n",
        "# Compare examine with current space to update the inventory"
      ]
    },
    {
      "cell_type": "code",
      "execution_count": null,
      "metadata": {
        "colab": {
          "base_uri": "https://localhost:8080/"
        },
        "id": "hYC9IlyZODnF",
        "outputId": "ad16f921-e68c-446b-93c7-2c06b8a07fcb"
      },
      "outputs": [],
      "source": [
        "# CODE :\n",
        "# Compare the elements in the current space with examine furniture\n",
        "\n",
        "if game_areas[\"Living Room\"][0] in examine:\n",
        "    print(\"found\")\n",
        "else:\n",
        "    print(\"not found\")"
      ]
    },
    {
      "cell_type": "code",
      "execution_count": null,
      "metadata": {
        "id": "tL9p9-y9i_Nj"
      },
      "outputs": [],
      "source": [
        "# CODE :\n",
        "# Update Current Space METHOD compare with furniture in the space\n",
        "for i in spaces:\n",
        "  if game_areas[\"Bedroom 1\"][0] in examine:\n",
        "    print(\"found\")\n",
        "  else:\n",
        "    print(\"not found\")\n",
        "# Use BREAK to leave loop when found\n",
        "\n",
        "# Update current space METHOD compare with doors in the space"
      ]
    },
    {
      "cell_type": "code",
      "execution_count": null,
      "metadata": {
        "colab": {
          "base_uri": "https://localhost:8080/"
        },
        "id": "PBfp9C9zV_YW",
        "outputId": "95af4563-6262-43ed-c08b-64dc87106806"
      },
      "outputs": [],
      "source": [
        "# CODE :\n",
        "# Manual Access an action (element) of a list\n",
        "print(\"\\nAccessing an element in List of ACTIONS :\",actions[1])"
      ]
    },
    {
      "cell_type": "code",
      "execution_count": null,
      "metadata": {
        "colab": {
          "base_uri": "https://localhost:8080/"
        },
        "id": "5oX0XZ3KKqe4",
        "outputId": "445e0cab-5e37-40bb-9b38-44caa75c51d4"
      },
      "outputs": [],
      "source": [
        "# CODE :\n",
        "# List: Inventory of the aquired keys to unlock the doors\n",
        "Inventory = []\n",
        "print(\"Inventory :\", Inventory)\n",
        "\n",
        "# Update Inventory example (still in game room and found key door A)\n",
        "Inventory = [\"key door A\"]\n",
        "print(\"Inventory :\", Inventory)"
      ]
    },
    {
      "cell_type": "code",
      "execution_count": null,
      "metadata": {
        "colab": {
          "base_uri": "https://localhost:8080/"
        },
        "id": "IJEcIhvoMdcG",
        "outputId": "5ad175c6-4b4c-4a0d-ebf9-ef77510286f7"
      },
      "outputs": [],
      "source": [
        "# CODE :\n",
        "# List: Furniture list found in current space\n",
        "furniture_found = []\n",
        "print(\"Furniture found :\", furniture_found)\n",
        "\n",
        "# Example List: Furniture list found in start space\n",
        "furniture_found = ['couch']\n",
        "print(\"Furniture found :\", furniture_found)"
      ]
    },
    {
      "cell_type": "markdown",
      "metadata": {
        "id": "mUY72_DgcWh2"
      },
      "source": [
        "SABINA COMMENT: I see you don't have the code from the loop here. I would say to add that in so you can test the changes you do to the functions every time you make a change. At the moment it looks like you're focusing on all the different elements but don't have the full picture.\n",
        "\n",
        "**So please try to make a working loop (either the one in the sample_code or one that you create with your own actions) as your next step before you work on any more details! The MVP (Minimum Viable Product) needs to come first!**"
      ]
    },
    {
      "cell_type": "markdown",
      "metadata": {},
      "source": [
        "# GAME CODE"
      ]
    },
    {
      "cell_type": "code",
      "execution_count": 5,
      "metadata": {},
      "outputs": [
        {
          "name": "stdout",
          "output_type": "stream",
          "text": [
            "\n",
            "    You wake up on a couch and find yourself in a strange house with no windows which you have never been to before.\n",
            "    You don't remember why you are here and what had happened before. \n",
            "    You feel some unknown danger is approaching and you must get out of the house, NOW!\n",
            "          \n"
          ]
        },
        {
          "ename": "NameError",
          "evalue": "name 'player_action' is not defined",
          "output_type": "error",
          "traceback": [
            "\u001b[1;31m---------------------------------------------------------------------------\u001b[0m",
            "\u001b[1;31mNameError\u001b[0m                                 Traceback (most recent call last)",
            "Cell \u001b[1;32mIn[5], line 10\u001b[0m\n\u001b[0;32m      8\u001b[0m current_space \u001b[38;5;241m=\u001b[39m \u001b[38;5;124m'\u001b[39m\u001b[38;5;124mgame room\u001b[39m\u001b[38;5;124m'\u001b[39m\n\u001b[0;32m      9\u001b[0m \u001b[38;5;66;03m# call function player_action(player_input='play')\u001b[39;00m\n\u001b[1;32m---> 10\u001b[0m player_action(\u001b[38;5;124m'\u001b[39m\u001b[38;5;124mplay\u001b[39m\u001b[38;5;124m'\u001b[39m) \n\u001b[0;32m     11\u001b[0m \u001b[38;5;66;03m# call explore(current_space) current_space stored in game_state dictionary\u001b[39;00m\n\u001b[0;32m     12\u001b[0m \u001b[38;5;28mgetattr\u001b[39m(utils, \u001b[38;5;124m\"\u001b[39m\u001b[38;5;124mexplore\u001b[39m\u001b[38;5;124m\"\u001b[39m)(game_state[\u001b[38;5;124m\"\u001b[39m\u001b[38;5;124mcurrent_space\u001b[39m\u001b[38;5;124m\"\u001b[39m])\n",
            "\u001b[1;31mNameError\u001b[0m: name 'player_action' is not defined"
          ]
        }
      ],
      "source": [
        "# Start the game by printing storyline message and initial game state\n",
        " \n",
        "print('''\n",
        "    You wake up on a couch and find yourself in a strange house with no windows which you have never been to before.\n",
        "    You don't remember why you are here and what had happened before. \n",
        "    You feel some unknown danger is approaching and you must get out of the house, NOW!\n",
        "          ''')\n",
        "current_space = 'game room'\n",
        "# call function player_action(player_input='play')\n",
        "player_action('play') \n",
        "# call explore(current_space) current_space stored in game_state dictionary\n",
        "getattr(utils, \"explore\")(game_state[\"current_space\"]) \n"
      ]
    },
    {
      "cell_type": "code",
      "execution_count": null,
      "metadata": {},
      "outputs": [],
      "source": [
        "# define function INIT_GAME_STATE()\n",
        "def INIT_GAME_STATE():\n",
        "    \"\"\"\n",
        "    Initialize the game state\n",
        "    \"\"\"\n",
        "    return {\n",
        "        \"current_space\": \"Game Room\",\n",
        "        \"inventory\": [],\n",
        "    }"
      ]
    },
    {
      "cell_type": "code",
      "execution_count": null,
      "metadata": {},
      "outputs": [],
      "source": [
        "# Initialize game state in Game Room\n",
        "game_state = INIT_GAME_STATE()\n",
        "# call function start_game()\n",
        "start_game()"
      ]
    },
    {
      "cell_type": "code",
      "execution_count": null,
      "metadata": {},
      "outputs": [],
      "source": [
        "# define function start_game()\n",
        "def start_game():\n",
        "    \"\"\"\n",
        "    Start the game\n",
        "    \"\"\"\n",
        "    print(\"You wake up on a couch and find yourself in a strange house with no windows which you have never been to before. You don't remember why you are here and what had happened before. You feel some unknown danger is approaching and you must get out of the house, NOW!\")\n",
        "    play_room(game_state[\"current_space\"])"
      ]
    },
    {
      "cell_type": "code",
      "execution_count": null,
      "metadata": {},
      "outputs": [],
      "source": [
        "# define function linebreak()\n",
        "def linebreak():\n",
        "    \"\"\"\n",
        "    Print a line break\n",
        "    \"\"\"\n",
        "    print(\"\\n\\n\")"
      ]
    }
  ],
  "metadata": {
    "colab": {
      "include_colab_link": true,
      "provenance": []
    },
    "kernelspec": {
      "display_name": "base",
      "language": "python",
      "name": "python3"
    },
    "language_info": {
      "codemirror_mode": {
        "name": "ipython",
        "version": 3
      },
      "file_extension": ".py",
      "mimetype": "text/x-python",
      "name": "python",
      "nbconvert_exporter": "python",
      "pygments_lexer": "ipython3",
      "version": "3.13.5"
    }
  },
  "nbformat": 4,
  "nbformat_minor": 0
}
